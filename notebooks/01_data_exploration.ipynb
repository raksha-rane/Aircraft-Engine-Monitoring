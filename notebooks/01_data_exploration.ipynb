{
 "cells": [
  {
   "cell_type": "markdown",
   "id": "ef0fcd06",
   "metadata": {},
   "source": [
    "# Aircraft Engine Monitoring - Data Exploration\n",
    "\n",
    "This notebook explores the NASA C-MAPSS aircraft engine sensor data and demonstrates our real-time simulation capabilities.\n",
    "\n",
    "## Overview\n",
    "\n",
    "- **Objective**: Understand sensor patterns and degradation behaviors\n",
    "- **Data Source**: NASA C-MAPSS dataset patterns\n",
    "- **Focus**: 21 sensors covering temperature, pressure, speed, and flow metrics\n",
    "- **Goal**: Build foundation for predictive maintenance analytics"
   ]
  },
  {
   "cell_type": "markdown",
   "id": "55416486",
   "metadata": {},
   "source": [
    "## 1. Import Required Libraries"
   ]
  },
  {
   "cell_type": "code",
   "execution_count": 1,
   "id": "4182148c",
   "metadata": {},
   "outputs": [
    {
     "name": "stdout",
     "output_type": "stream",
     "text": [
      "✅ Libraries imported successfully!\n",
      "📅 Analysis Date: 2025-09-03 15:06:24\n"
     ]
    }
   ],
   "source": [
    "import pandas as pd\n",
    "import numpy as np\n",
    "import matplotlib.pyplot as plt\n",
    "import seaborn as sns\n",
    "import plotly.express as px\n",
    "import plotly.graph_objects as go\n",
    "from plotly.subplots import make_subplots\n",
    "import sys\n",
    "import os\n",
    "from datetime import datetime, timedelta\n",
    "import warnings\n",
    "warnings.filterwarnings('ignore')\n",
    "\n",
    "# Add src directory to path to import our modules\n",
    "sys.path.append('../src')\n",
    "\n",
    "# Import our custom modules\n",
    "from sensor_schema import EngineSchema\n",
    "from data_simulator import EngineSimulator, FleetSimulator\n",
    "\n",
    "# Set styling\n",
    "plt.style.use('seaborn-v0_8')\n",
    "sns.set_palette(\"husl\")\n",
    "\n",
    "print(\"✅ Libraries imported successfully!\")\n",
    "print(f\"📅 Analysis Date: {datetime.now().strftime('%Y-%m-%d %H:%M:%S')}\")"
   ]
  },
  {
   "cell_type": "markdown",
   "id": "f381bdb6",
   "metadata": {},
   "source": [
    "## 2. Explore Engine Schema and Sensor Configuration"
   ]
  },
  {
   "cell_type": "code",
   "execution_count": 2,
   "id": "75132047",
   "metadata": {},
   "outputs": [
    {
     "name": "stdout",
     "output_type": "stream",
     "text": [
      "🔧 Aircraft Engine Sensor Configuration\n",
      "==================================================\n",
      "📊 Total Sensors: 21\n",
      "🔥 Temperature Sensors: 6\n",
      "📈 Pressure Sensors: 5\n",
      "⚡ Speed Sensors: 6\n",
      "⚠️  Degrading Sensors: 6\n",
      "🚨 Critical Sensors: 6\n"
     ]
    },
    {
     "data": {
      "text/html": [
       "<div>\n",
       "<style scoped>\n",
       "    .dataframe tbody tr th:only-of-type {\n",
       "        vertical-align: middle;\n",
       "    }\n",
       "\n",
       "    .dataframe tbody tr th {\n",
       "        vertical-align: top;\n",
       "    }\n",
       "\n",
       "    .dataframe thead th {\n",
       "        text-align: right;\n",
       "    }\n",
       "</style>\n",
       "<table border=\"1\" class=\"dataframe\">\n",
       "  <thead>\n",
       "    <tr style=\"text-align: right;\">\n",
       "      <th></th>\n",
       "      <th>Sensor_ID</th>\n",
       "      <th>Name</th>\n",
       "      <th>Unit</th>\n",
       "      <th>Min_Range</th>\n",
       "      <th>Max_Range</th>\n",
       "      <th>Degradation_Pattern</th>\n",
       "      <th>Noise_Level</th>\n",
       "      <th>Critical_Threshold</th>\n",
       "    </tr>\n",
       "  </thead>\n",
       "  <tbody>\n",
       "    <tr>\n",
       "      <th>0</th>\n",
       "      <td>sensor_1</td>\n",
       "      <td>Total_Temperature_T2</td>\n",
       "      <td>°R</td>\n",
       "      <td>518.67</td>\n",
       "      <td>518.67</td>\n",
       "      <td>stable</td>\n",
       "      <td>0.00</td>\n",
       "      <td>520.000</td>\n",
       "    </tr>\n",
       "    <tr>\n",
       "      <th>1</th>\n",
       "      <td>sensor_2</td>\n",
       "      <td>Total_Temperature_T24</td>\n",
       "      <td>°R</td>\n",
       "      <td>641.21</td>\n",
       "      <td>644.53</td>\n",
       "      <td>increasing</td>\n",
       "      <td>0.50</td>\n",
       "      <td>645.000</td>\n",
       "    </tr>\n",
       "    <tr>\n",
       "      <th>2</th>\n",
       "      <td>sensor_3</td>\n",
       "      <td>Total_Temperature_T30</td>\n",
       "      <td>°R</td>\n",
       "      <td>1571.04</td>\n",
       "      <td>1616.91</td>\n",
       "      <td>increasing</td>\n",
       "      <td>5.00</td>\n",
       "      <td>1620.000</td>\n",
       "    </tr>\n",
       "    <tr>\n",
       "      <th>3</th>\n",
       "      <td>sensor_4</td>\n",
       "      <td>Total_Temperature_T50</td>\n",
       "      <td>°R</td>\n",
       "      <td>1382.25</td>\n",
       "      <td>1441.49</td>\n",
       "      <td>increasing</td>\n",
       "      <td>8.00</td>\n",
       "      <td>1445.000</td>\n",
       "    </tr>\n",
       "    <tr>\n",
       "      <th>4</th>\n",
       "      <td>sensor_7</td>\n",
       "      <td>Total_Temperature_T48</td>\n",
       "      <td>°R</td>\n",
       "      <td>549.85</td>\n",
       "      <td>556.06</td>\n",
       "      <td>increasing</td>\n",
       "      <td>1.00</td>\n",
       "      <td>558.000</td>\n",
       "    </tr>\n",
       "    <tr>\n",
       "      <th>5</th>\n",
       "      <td>sensor_12</td>\n",
       "      <td>Static_Temperature_T48</td>\n",
       "      <td>°R</td>\n",
       "      <td>518.69</td>\n",
       "      <td>523.38</td>\n",
       "      <td>increasing</td>\n",
       "      <td>0.80</td>\n",
       "      <td>525.000</td>\n",
       "    </tr>\n",
       "    <tr>\n",
       "      <th>6</th>\n",
       "      <td>sensor_5</td>\n",
       "      <td>Pressure_P2</td>\n",
       "      <td>psia</td>\n",
       "      <td>14.62</td>\n",
       "      <td>14.62</td>\n",
       "      <td>stable</td>\n",
       "      <td>0.00</td>\n",
       "      <td>15.000</td>\n",
       "    </tr>\n",
       "    <tr>\n",
       "      <th>7</th>\n",
       "      <td>sensor_6</td>\n",
       "      <td>Pressure_P21</td>\n",
       "      <td>psia</td>\n",
       "      <td>21.60</td>\n",
       "      <td>21.61</td>\n",
       "      <td>stable</td>\n",
       "      <td>0.01</td>\n",
       "      <td>22.000</td>\n",
       "    </tr>\n",
       "    <tr>\n",
       "      <th>8</th>\n",
       "      <td>sensor_10</td>\n",
       "      <td>Pressure_P48</td>\n",
       "      <td>psia</td>\n",
       "      <td>1.30</td>\n",
       "      <td>1.30</td>\n",
       "      <td>stable</td>\n",
       "      <td>0.00</td>\n",
       "      <td>1.350</td>\n",
       "    </tr>\n",
       "    <tr>\n",
       "      <th>9</th>\n",
       "      <td>sensor_16</td>\n",
       "      <td>Pressure_P30</td>\n",
       "      <td>psia</td>\n",
       "      <td>0.03</td>\n",
       "      <td>0.03</td>\n",
       "      <td>stable</td>\n",
       "      <td>0.00</td>\n",
       "      <td>0.035</td>\n",
       "    </tr>\n",
       "    <tr>\n",
       "      <th>10</th>\n",
       "      <td>sensor_8</td>\n",
       "      <td>Physical_Fan_Speed</td>\n",
       "      <td>rpm</td>\n",
       "      <td>2387.90</td>\n",
       "      <td>2388.56</td>\n",
       "      <td>varying</td>\n",
       "      <td>0.20</td>\n",
       "      <td>2390.000</td>\n",
       "    </tr>\n",
       "    <tr>\n",
       "      <th>11</th>\n",
       "      <td>sensor_9</td>\n",
       "      <td>Physical_Core_Speed</td>\n",
       "      <td>rpm</td>\n",
       "      <td>9021.73</td>\n",
       "      <td>9244.59</td>\n",
       "      <td>varying</td>\n",
       "      <td>20.00</td>\n",
       "      <td>9300.000</td>\n",
       "    </tr>\n",
       "    <tr>\n",
       "      <th>12</th>\n",
       "      <td>sensor_13</td>\n",
       "      <td>Corrected_Fan_Speed</td>\n",
       "      <td>rpm</td>\n",
       "      <td>2387.88</td>\n",
       "      <td>2388.56</td>\n",
       "      <td>varying</td>\n",
       "      <td>0.20</td>\n",
       "      <td>2390.000</td>\n",
       "    </tr>\n",
       "    <tr>\n",
       "      <th>13</th>\n",
       "      <td>sensor_14</td>\n",
       "      <td>Corrected_Core_Speed</td>\n",
       "      <td>rpm</td>\n",
       "      <td>8099.94</td>\n",
       "      <td>8293.72</td>\n",
       "      <td>varying</td>\n",
       "      <td>15.00</td>\n",
       "      <td>8350.000</td>\n",
       "    </tr>\n",
       "    <tr>\n",
       "      <th>14</th>\n",
       "      <td>sensor_11</td>\n",
       "      <td>Bypass_Ratio</td>\n",
       "      <td>ratio</td>\n",
       "      <td>46.85</td>\n",
       "      <td>48.53</td>\n",
       "      <td>increasing</td>\n",
       "      <td>0.30</td>\n",
       "      <td>49.000</td>\n",
       "    </tr>\n",
       "    <tr>\n",
       "      <th>15</th>\n",
       "      <td>sensor_15</td>\n",
       "      <td>Burner_Fuel_Air_Ratio</td>\n",
       "      <td>ratio</td>\n",
       "      <td>8.32</td>\n",
       "      <td>8.58</td>\n",
       "      <td>varying</td>\n",
       "      <td>0.05</td>\n",
       "      <td>8.700</td>\n",
       "    </tr>\n",
       "    <tr>\n",
       "      <th>16</th>\n",
       "      <td>sensor_17</td>\n",
       "      <td>Bleed_Enthalpy</td>\n",
       "      <td>enthalpy</td>\n",
       "      <td>388.00</td>\n",
       "      <td>400.00</td>\n",
       "      <td>varying</td>\n",
       "      <td>2.00</td>\n",
       "      <td>405.000</td>\n",
       "    </tr>\n",
       "    <tr>\n",
       "      <th>17</th>\n",
       "      <td>sensor_20</td>\n",
       "      <td>Demanded_Fan_Speed</td>\n",
       "      <td>rpm</td>\n",
       "      <td>38.14</td>\n",
       "      <td>39.43</td>\n",
       "      <td>varying</td>\n",
       "      <td>0.20</td>\n",
       "      <td>40.000</td>\n",
       "    </tr>\n",
       "    <tr>\n",
       "      <th>18</th>\n",
       "      <td>sensor_21</td>\n",
       "      <td>Demanded_Core_Speed</td>\n",
       "      <td>rpm</td>\n",
       "      <td>22.89</td>\n",
       "      <td>23.62</td>\n",
       "      <td>varying</td>\n",
       "      <td>0.10</td>\n",
       "      <td>24.000</td>\n",
       "    </tr>\n",
       "    <tr>\n",
       "      <th>19</th>\n",
       "      <td>sensor_18</td>\n",
       "      <td>Static_Pressure_HPC</td>\n",
       "      <td>psia</td>\n",
       "      <td>2388.00</td>\n",
       "      <td>2388.00</td>\n",
       "      <td>stable</td>\n",
       "      <td>0.00</td>\n",
       "      <td>2390.000</td>\n",
       "    </tr>\n",
       "    <tr>\n",
       "      <th>20</th>\n",
       "      <td>sensor_19</td>\n",
       "      <td>Fuel_Flow_PS30</td>\n",
       "      <td>pps</td>\n",
       "      <td>100.00</td>\n",
       "      <td>100.00</td>\n",
       "      <td>stable</td>\n",
       "      <td>0.00</td>\n",
       "      <td>102.000</td>\n",
       "    </tr>\n",
       "  </tbody>\n",
       "</table>\n",
       "</div>"
      ],
      "text/plain": [
       "    Sensor_ID                    Name      Unit  Min_Range  Max_Range  \\\n",
       "0    sensor_1    Total_Temperature_T2        °R     518.67     518.67   \n",
       "1    sensor_2   Total_Temperature_T24        °R     641.21     644.53   \n",
       "2    sensor_3   Total_Temperature_T30        °R    1571.04    1616.91   \n",
       "3    sensor_4   Total_Temperature_T50        °R    1382.25    1441.49   \n",
       "4    sensor_7   Total_Temperature_T48        °R     549.85     556.06   \n",
       "5   sensor_12  Static_Temperature_T48        °R     518.69     523.38   \n",
       "6    sensor_5             Pressure_P2      psia      14.62      14.62   \n",
       "7    sensor_6            Pressure_P21      psia      21.60      21.61   \n",
       "8   sensor_10            Pressure_P48      psia       1.30       1.30   \n",
       "9   sensor_16            Pressure_P30      psia       0.03       0.03   \n",
       "10   sensor_8      Physical_Fan_Speed       rpm    2387.90    2388.56   \n",
       "11   sensor_9     Physical_Core_Speed       rpm    9021.73    9244.59   \n",
       "12  sensor_13     Corrected_Fan_Speed       rpm    2387.88    2388.56   \n",
       "13  sensor_14    Corrected_Core_Speed       rpm    8099.94    8293.72   \n",
       "14  sensor_11            Bypass_Ratio     ratio      46.85      48.53   \n",
       "15  sensor_15   Burner_Fuel_Air_Ratio     ratio       8.32       8.58   \n",
       "16  sensor_17          Bleed_Enthalpy  enthalpy     388.00     400.00   \n",
       "17  sensor_20      Demanded_Fan_Speed       rpm      38.14      39.43   \n",
       "18  sensor_21     Demanded_Core_Speed       rpm      22.89      23.62   \n",
       "19  sensor_18     Static_Pressure_HPC      psia    2388.00    2388.00   \n",
       "20  sensor_19          Fuel_Flow_PS30       pps     100.00     100.00   \n",
       "\n",
       "   Degradation_Pattern  Noise_Level  Critical_Threshold  \n",
       "0               stable         0.00             520.000  \n",
       "1           increasing         0.50             645.000  \n",
       "2           increasing         5.00            1620.000  \n",
       "3           increasing         8.00            1445.000  \n",
       "4           increasing         1.00             558.000  \n",
       "5           increasing         0.80             525.000  \n",
       "6               stable         0.00              15.000  \n",
       "7               stable         0.01              22.000  \n",
       "8               stable         0.00               1.350  \n",
       "9               stable         0.00               0.035  \n",
       "10             varying         0.20            2390.000  \n",
       "11             varying        20.00            9300.000  \n",
       "12             varying         0.20            2390.000  \n",
       "13             varying        15.00            8350.000  \n",
       "14          increasing         0.30              49.000  \n",
       "15             varying         0.05               8.700  \n",
       "16             varying         2.00             405.000  \n",
       "17             varying         0.20              40.000  \n",
       "18             varying         0.10              24.000  \n",
       "19              stable         0.00            2390.000  \n",
       "20              stable         0.00             102.000  "
      ]
     },
     "metadata": {},
     "output_type": "display_data"
    }
   ],
   "source": [
    "# Initialize the engine schema\n",
    "schema = EngineSchema()\n",
    "\n",
    "print(\"🔧 Aircraft Engine Sensor Configuration\")\n",
    "print(\"=\" * 50)\n",
    "\n",
    "# Create a summary DataFrame\n",
    "sensor_info = []\n",
    "for sensor_id, config in schema.sensors.items():\n",
    "    sensor_info.append({\n",
    "        'Sensor_ID': sensor_id,\n",
    "        'Name': config.name,\n",
    "        'Unit': config.unit,\n",
    "        'Min_Range': config.normal_range[0],\n",
    "        'Max_Range': config.normal_range[1],\n",
    "        'Degradation_Pattern': config.degradation_pattern,\n",
    "        'Noise_Level': config.noise_level,\n",
    "        'Critical_Threshold': config.critical_threshold\n",
    "    })\n",
    "\n",
    "sensor_df = pd.DataFrame(sensor_info)\n",
    "print(f\"📊 Total Sensors: {len(sensor_df)}\")\n",
    "print(f\"🔥 Temperature Sensors: {len(sensor_df[sensor_df['Unit'] == '°R'])}\")\n",
    "print(f\"📈 Pressure Sensors: {len(sensor_df[sensor_df['Unit'] == 'psia'])}\")\n",
    "print(f\"⚡ Speed Sensors: {len(sensor_df[sensor_df['Unit'] == 'rpm'])}\")\n",
    "print(f\"⚠️  Degrading Sensors: {len(schema.get_degrading_sensors())}\")\n",
    "print(f\"🚨 Critical Sensors: {len(schema.get_critical_sensors())}\")\n",
    "\n",
    "display(sensor_df)"
   ]
  },
  {
   "cell_type": "markdown",
   "id": "fae9d36e",
   "metadata": {},
   "source": [
    "## 3. Analyze Degradation Patterns"
   ]
  },
  {
   "cell_type": "code",
   "execution_count": 3,
   "id": "9c1d8f22",
   "metadata": {},
   "outputs": [
    {
     "name": "stdout",
     "output_type": "stream",
     "text": [
      "📈 Degradation Pattern Analysis\n"
     ]
    },
    {
     "data": {
      "text/html": [
       "<div>\n",
       "<style scoped>\n",
       "    .dataframe tbody tr th:only-of-type {\n",
       "        vertical-align: middle;\n",
       "    }\n",
       "\n",
       "    .dataframe tbody tr th {\n",
       "        vertical-align: top;\n",
       "    }\n",
       "\n",
       "    .dataframe thead th {\n",
       "        text-align: right;\n",
       "    }\n",
       "</style>\n",
       "<table border=\"1\" class=\"dataframe\">\n",
       "  <thead>\n",
       "    <tr style=\"text-align: right;\">\n",
       "      <th></th>\n",
       "      <th>Sensor_Count</th>\n",
       "      <th>Avg_Noise_Level</th>\n",
       "      <th>Total_Sensors</th>\n",
       "    </tr>\n",
       "    <tr>\n",
       "      <th>Degradation_Pattern</th>\n",
       "      <th></th>\n",
       "      <th></th>\n",
       "      <th></th>\n",
       "    </tr>\n",
       "  </thead>\n",
       "  <tbody>\n",
       "    <tr>\n",
       "      <th>increasing</th>\n",
       "      <td>6</td>\n",
       "      <td>2.60</td>\n",
       "      <td>6</td>\n",
       "    </tr>\n",
       "    <tr>\n",
       "      <th>stable</th>\n",
       "      <td>7</td>\n",
       "      <td>0.00</td>\n",
       "      <td>7</td>\n",
       "    </tr>\n",
       "    <tr>\n",
       "      <th>varying</th>\n",
       "      <td>8</td>\n",
       "      <td>4.72</td>\n",
       "      <td>8</td>\n",
       "    </tr>\n",
       "  </tbody>\n",
       "</table>\n",
       "</div>"
      ],
      "text/plain": [
       "                     Sensor_Count  Avg_Noise_Level  Total_Sensors\n",
       "Degradation_Pattern                                              \n",
       "increasing                      6             2.60              6\n",
       "stable                          7             0.00              7\n",
       "varying                         8             4.72              8"
      ]
     },
     "metadata": {},
     "output_type": "display_data"
    },
    {
     "data": {
      "application/vnd.plotly.v1+json": {
       "config": {
        "plotlyServerURL": "https://plot.ly"
       },
       "data": [
        {
         "domain": {
          "x": [
           0,
           1
          ],
          "y": [
           0,
           1
          ]
         },
         "hovertemplate": "Degradation_Pattern=%{label}<extra></extra>",
         "labels": [
          "stable",
          "increasing",
          "increasing",
          "increasing",
          "increasing",
          "increasing",
          "stable",
          "stable",
          "stable",
          "stable",
          "varying",
          "varying",
          "varying",
          "varying",
          "increasing",
          "varying",
          "varying",
          "varying",
          "varying",
          "stable",
          "stable"
         ],
         "legendgroup": "",
         "name": "",
         "showlegend": true,
         "type": "pie"
        }
       ],
       "layout": {
        "legend": {
         "tracegroupgap": 0
        },
        "piecolorway": [
         "rgb(141,211,199)",
         "rgb(255,255,179)",
         "rgb(190,186,218)",
         "rgb(251,128,114)",
         "rgb(128,177,211)",
         "rgb(253,180,98)",
         "rgb(179,222,105)",
         "rgb(252,205,229)",
         "rgb(217,217,217)",
         "rgb(188,128,189)",
         "rgb(204,235,197)",
         "rgb(255,237,111)"
        ],
        "template": {
         "data": {
          "bar": [
           {
            "error_x": {
             "color": "#2a3f5f"
            },
            "error_y": {
             "color": "#2a3f5f"
            },
            "marker": {
             "line": {
              "color": "#E5ECF6",
              "width": 0.5
             },
             "pattern": {
              "fillmode": "overlay",
              "size": 10,
              "solidity": 0.2
             }
            },
            "type": "bar"
           }
          ],
          "barpolar": [
           {
            "marker": {
             "line": {
              "color": "#E5ECF6",
              "width": 0.5
             },
             "pattern": {
              "fillmode": "overlay",
              "size": 10,
              "solidity": 0.2
             }
            },
            "type": "barpolar"
           }
          ],
          "carpet": [
           {
            "aaxis": {
             "endlinecolor": "#2a3f5f",
             "gridcolor": "white",
             "linecolor": "white",
             "minorgridcolor": "white",
             "startlinecolor": "#2a3f5f"
            },
            "baxis": {
             "endlinecolor": "#2a3f5f",
             "gridcolor": "white",
             "linecolor": "white",
             "minorgridcolor": "white",
             "startlinecolor": "#2a3f5f"
            },
            "type": "carpet"
           }
          ],
          "choropleth": [
           {
            "colorbar": {
             "outlinewidth": 0,
             "ticks": ""
            },
            "type": "choropleth"
           }
          ],
          "contour": [
           {
            "colorbar": {
             "outlinewidth": 0,
             "ticks": ""
            },
            "colorscale": [
             [
              0,
              "#0d0887"
             ],
             [
              0.1111111111111111,
              "#46039f"
             ],
             [
              0.2222222222222222,
              "#7201a8"
             ],
             [
              0.3333333333333333,
              "#9c179e"
             ],
             [
              0.4444444444444444,
              "#bd3786"
             ],
             [
              0.5555555555555556,
              "#d8576b"
             ],
             [
              0.6666666666666666,
              "#ed7953"
             ],
             [
              0.7777777777777778,
              "#fb9f3a"
             ],
             [
              0.8888888888888888,
              "#fdca26"
             ],
             [
              1,
              "#f0f921"
             ]
            ],
            "type": "contour"
           }
          ],
          "contourcarpet": [
           {
            "colorbar": {
             "outlinewidth": 0,
             "ticks": ""
            },
            "type": "contourcarpet"
           }
          ],
          "heatmap": [
           {
            "colorbar": {
             "outlinewidth": 0,
             "ticks": ""
            },
            "colorscale": [
             [
              0,
              "#0d0887"
             ],
             [
              0.1111111111111111,
              "#46039f"
             ],
             [
              0.2222222222222222,
              "#7201a8"
             ],
             [
              0.3333333333333333,
              "#9c179e"
             ],
             [
              0.4444444444444444,
              "#bd3786"
             ],
             [
              0.5555555555555556,
              "#d8576b"
             ],
             [
              0.6666666666666666,
              "#ed7953"
             ],
             [
              0.7777777777777778,
              "#fb9f3a"
             ],
             [
              0.8888888888888888,
              "#fdca26"
             ],
             [
              1,
              "#f0f921"
             ]
            ],
            "type": "heatmap"
           }
          ],
          "histogram": [
           {
            "marker": {
             "pattern": {
              "fillmode": "overlay",
              "size": 10,
              "solidity": 0.2
             }
            },
            "type": "histogram"
           }
          ],
          "histogram2d": [
           {
            "colorbar": {
             "outlinewidth": 0,
             "ticks": ""
            },
            "colorscale": [
             [
              0,
              "#0d0887"
             ],
             [
              0.1111111111111111,
              "#46039f"
             ],
             [
              0.2222222222222222,
              "#7201a8"
             ],
             [
              0.3333333333333333,
              "#9c179e"
             ],
             [
              0.4444444444444444,
              "#bd3786"
             ],
             [
              0.5555555555555556,
              "#d8576b"
             ],
             [
              0.6666666666666666,
              "#ed7953"
             ],
             [
              0.7777777777777778,
              "#fb9f3a"
             ],
             [
              0.8888888888888888,
              "#fdca26"
             ],
             [
              1,
              "#f0f921"
             ]
            ],
            "type": "histogram2d"
           }
          ],
          "histogram2dcontour": [
           {
            "colorbar": {
             "outlinewidth": 0,
             "ticks": ""
            },
            "colorscale": [
             [
              0,
              "#0d0887"
             ],
             [
              0.1111111111111111,
              "#46039f"
             ],
             [
              0.2222222222222222,
              "#7201a8"
             ],
             [
              0.3333333333333333,
              "#9c179e"
             ],
             [
              0.4444444444444444,
              "#bd3786"
             ],
             [
              0.5555555555555556,
              "#d8576b"
             ],
             [
              0.6666666666666666,
              "#ed7953"
             ],
             [
              0.7777777777777778,
              "#fb9f3a"
             ],
             [
              0.8888888888888888,
              "#fdca26"
             ],
             [
              1,
              "#f0f921"
             ]
            ],
            "type": "histogram2dcontour"
           }
          ],
          "mesh3d": [
           {
            "colorbar": {
             "outlinewidth": 0,
             "ticks": ""
            },
            "type": "mesh3d"
           }
          ],
          "parcoords": [
           {
            "line": {
             "colorbar": {
              "outlinewidth": 0,
              "ticks": ""
             }
            },
            "type": "parcoords"
           }
          ],
          "pie": [
           {
            "automargin": true,
            "type": "pie"
           }
          ],
          "scatter": [
           {
            "fillpattern": {
             "fillmode": "overlay",
             "size": 10,
             "solidity": 0.2
            },
            "type": "scatter"
           }
          ],
          "scatter3d": [
           {
            "line": {
             "colorbar": {
              "outlinewidth": 0,
              "ticks": ""
             }
            },
            "marker": {
             "colorbar": {
              "outlinewidth": 0,
              "ticks": ""
             }
            },
            "type": "scatter3d"
           }
          ],
          "scattercarpet": [
           {
            "marker": {
             "colorbar": {
              "outlinewidth": 0,
              "ticks": ""
             }
            },
            "type": "scattercarpet"
           }
          ],
          "scattergeo": [
           {
            "marker": {
             "colorbar": {
              "outlinewidth": 0,
              "ticks": ""
             }
            },
            "type": "scattergeo"
           }
          ],
          "scattergl": [
           {
            "marker": {
             "colorbar": {
              "outlinewidth": 0,
              "ticks": ""
             }
            },
            "type": "scattergl"
           }
          ],
          "scattermap": [
           {
            "marker": {
             "colorbar": {
              "outlinewidth": 0,
              "ticks": ""
             }
            },
            "type": "scattermap"
           }
          ],
          "scattermapbox": [
           {
            "marker": {
             "colorbar": {
              "outlinewidth": 0,
              "ticks": ""
             }
            },
            "type": "scattermapbox"
           }
          ],
          "scatterpolar": [
           {
            "marker": {
             "colorbar": {
              "outlinewidth": 0,
              "ticks": ""
             }
            },
            "type": "scatterpolar"
           }
          ],
          "scatterpolargl": [
           {
            "marker": {
             "colorbar": {
              "outlinewidth": 0,
              "ticks": ""
             }
            },
            "type": "scatterpolargl"
           }
          ],
          "scatterternary": [
           {
            "marker": {
             "colorbar": {
              "outlinewidth": 0,
              "ticks": ""
             }
            },
            "type": "scatterternary"
           }
          ],
          "surface": [
           {
            "colorbar": {
             "outlinewidth": 0,
             "ticks": ""
            },
            "colorscale": [
             [
              0,
              "#0d0887"
             ],
             [
              0.1111111111111111,
              "#46039f"
             ],
             [
              0.2222222222222222,
              "#7201a8"
             ],
             [
              0.3333333333333333,
              "#9c179e"
             ],
             [
              0.4444444444444444,
              "#bd3786"
             ],
             [
              0.5555555555555556,
              "#d8576b"
             ],
             [
              0.6666666666666666,
              "#ed7953"
             ],
             [
              0.7777777777777778,
              "#fb9f3a"
             ],
             [
              0.8888888888888888,
              "#fdca26"
             ],
             [
              1,
              "#f0f921"
             ]
            ],
            "type": "surface"
           }
          ],
          "table": [
           {
            "cells": {
             "fill": {
              "color": "#EBF0F8"
             },
             "line": {
              "color": "white"
             }
            },
            "header": {
             "fill": {
              "color": "#C8D4E3"
             },
             "line": {
              "color": "white"
             }
            },
            "type": "table"
           }
          ]
         },
         "layout": {
          "annotationdefaults": {
           "arrowcolor": "#2a3f5f",
           "arrowhead": 0,
           "arrowwidth": 1
          },
          "autotypenumbers": "strict",
          "coloraxis": {
           "colorbar": {
            "outlinewidth": 0,
            "ticks": ""
           }
          },
          "colorscale": {
           "diverging": [
            [
             0,
             "#8e0152"
            ],
            [
             0.1,
             "#c51b7d"
            ],
            [
             0.2,
             "#de77ae"
            ],
            [
             0.3,
             "#f1b6da"
            ],
            [
             0.4,
             "#fde0ef"
            ],
            [
             0.5,
             "#f7f7f7"
            ],
            [
             0.6,
             "#e6f5d0"
            ],
            [
             0.7,
             "#b8e186"
            ],
            [
             0.8,
             "#7fbc41"
            ],
            [
             0.9,
             "#4d9221"
            ],
            [
             1,
             "#276419"
            ]
           ],
           "sequential": [
            [
             0,
             "#0d0887"
            ],
            [
             0.1111111111111111,
             "#46039f"
            ],
            [
             0.2222222222222222,
             "#7201a8"
            ],
            [
             0.3333333333333333,
             "#9c179e"
            ],
            [
             0.4444444444444444,
             "#bd3786"
            ],
            [
             0.5555555555555556,
             "#d8576b"
            ],
            [
             0.6666666666666666,
             "#ed7953"
            ],
            [
             0.7777777777777778,
             "#fb9f3a"
            ],
            [
             0.8888888888888888,
             "#fdca26"
            ],
            [
             1,
             "#f0f921"
            ]
           ],
           "sequentialminus": [
            [
             0,
             "#0d0887"
            ],
            [
             0.1111111111111111,
             "#46039f"
            ],
            [
             0.2222222222222222,
             "#7201a8"
            ],
            [
             0.3333333333333333,
             "#9c179e"
            ],
            [
             0.4444444444444444,
             "#bd3786"
            ],
            [
             0.5555555555555556,
             "#d8576b"
            ],
            [
             0.6666666666666666,
             "#ed7953"
            ],
            [
             0.7777777777777778,
             "#fb9f3a"
            ],
            [
             0.8888888888888888,
             "#fdca26"
            ],
            [
             1,
             "#f0f921"
            ]
           ]
          },
          "colorway": [
           "#636efa",
           "#EF553B",
           "#00cc96",
           "#ab63fa",
           "#FFA15A",
           "#19d3f3",
           "#FF6692",
           "#B6E880",
           "#FF97FF",
           "#FECB52"
          ],
          "font": {
           "color": "#2a3f5f"
          },
          "geo": {
           "bgcolor": "white",
           "lakecolor": "white",
           "landcolor": "#E5ECF6",
           "showlakes": true,
           "showland": true,
           "subunitcolor": "white"
          },
          "hoverlabel": {
           "align": "left"
          },
          "hovermode": "closest",
          "mapbox": {
           "style": "light"
          },
          "paper_bgcolor": "white",
          "plot_bgcolor": "#E5ECF6",
          "polar": {
           "angularaxis": {
            "gridcolor": "white",
            "linecolor": "white",
            "ticks": ""
           },
           "bgcolor": "#E5ECF6",
           "radialaxis": {
            "gridcolor": "white",
            "linecolor": "white",
            "ticks": ""
           }
          },
          "scene": {
           "xaxis": {
            "backgroundcolor": "#E5ECF6",
            "gridcolor": "white",
            "gridwidth": 2,
            "linecolor": "white",
            "showbackground": true,
            "ticks": "",
            "zerolinecolor": "white"
           },
           "yaxis": {
            "backgroundcolor": "#E5ECF6",
            "gridcolor": "white",
            "gridwidth": 2,
            "linecolor": "white",
            "showbackground": true,
            "ticks": "",
            "zerolinecolor": "white"
           },
           "zaxis": {
            "backgroundcolor": "#E5ECF6",
            "gridcolor": "white",
            "gridwidth": 2,
            "linecolor": "white",
            "showbackground": true,
            "ticks": "",
            "zerolinecolor": "white"
           }
          },
          "shapedefaults": {
           "line": {
            "color": "#2a3f5f"
           }
          },
          "ternary": {
           "aaxis": {
            "gridcolor": "white",
            "linecolor": "white",
            "ticks": ""
           },
           "baxis": {
            "gridcolor": "white",
            "linecolor": "white",
            "ticks": ""
           },
           "bgcolor": "#E5ECF6",
           "caxis": {
            "gridcolor": "white",
            "linecolor": "white",
            "ticks": ""
           }
          },
          "title": {
           "x": 0.05
          },
          "xaxis": {
           "automargin": true,
           "gridcolor": "white",
           "linecolor": "white",
           "ticks": "",
           "title": {
            "standoff": 15
           },
           "zerolinecolor": "white",
           "zerolinewidth": 2
          },
          "yaxis": {
           "automargin": true,
           "gridcolor": "white",
           "linecolor": "white",
           "ticks": "",
           "title": {
            "standoff": 15
           },
           "zerolinecolor": "white",
           "zerolinewidth": 2
          }
         }
        },
        "title": {
         "text": "Distribution of Sensor Degradation Patterns"
        }
       }
      }
     },
     "metadata": {},
     "output_type": "display_data"
    },
    {
     "name": "stdout",
     "output_type": "stream",
     "text": [
      "\n",
      "🔍 Key Insights:\n",
      "• Temperature sensors (T24, T30, T50) show increasing degradation patterns\n",
      "• Speed sensors exhibit varying patterns as engines degrade\n",
      "• Pressure sensors remain relatively stable\n",
      "• Bypass ratio is a critical indicator of engine health\n"
     ]
    }
   ],
   "source": [
    "# Analyze degradation patterns\n",
    "degradation_analysis = sensor_df.groupby('Degradation_Pattern').agg({\n",
    "    'Sensor_ID': 'count',\n",
    "    'Noise_Level': 'mean',\n",
    "    'Critical_Threshold': 'count'\n",
    "}).round(2)\n",
    "\n",
    "degradation_analysis.columns = ['Sensor_Count', 'Avg_Noise_Level', 'Total_Sensors']\n",
    "\n",
    "print(\"📈 Degradation Pattern Analysis\")\n",
    "display(degradation_analysis)\n",
    "\n",
    "# Visualize degradation patterns\n",
    "fig = px.pie(sensor_df, names='Degradation_Pattern', \n",
    "             title='Distribution of Sensor Degradation Patterns',\n",
    "             color_discrete_sequence=px.colors.qualitative.Set3)\n",
    "fig.show()\n",
    "\n",
    "print(\"\\n🔍 Key Insights:\")\n",
    "print(\"• Temperature sensors (T24, T30, T50) show increasing degradation patterns\")\n",
    "print(\"• Speed sensors exhibit varying patterns as engines degrade\")\n",
    "print(\"• Pressure sensors remain relatively stable\")\n",
    "print(\"• Bypass ratio is a critical indicator of engine health\")"
   ]
  },
  {
   "cell_type": "markdown",
   "id": "81865ee2",
   "metadata": {},
   "source": [
    "## 4. Generate Simulated Engine Data"
   ]
  },
  {
   "cell_type": "code",
   "execution_count": 5,
   "id": "06da81cd",
   "metadata": {},
   "outputs": [
    {
     "name": "stdout",
     "output_type": "stream",
     "text": [
      "🔄 Generating 50 cycles of data for each engine...\n",
      "✅ Generated 150 data points\n",
      "📊 Data shape: (150, 26)\n",
      "🏥 Health states: {'healthy': 137, 'degrading': 13}\n"
     ]
    },
    {
     "data": {
      "text/html": [
       "<div>\n",
       "<style scoped>\n",
       "    .dataframe tbody tr th:only-of-type {\n",
       "        vertical-align: middle;\n",
       "    }\n",
       "\n",
       "    .dataframe tbody tr th {\n",
       "        vertical-align: top;\n",
       "    }\n",
       "\n",
       "    .dataframe thead th {\n",
       "        text-align: right;\n",
       "    }\n",
       "</style>\n",
       "<table border=\"1\" class=\"dataframe\">\n",
       "  <thead>\n",
       "    <tr style=\"text-align: right;\">\n",
       "      <th></th>\n",
       "      <th>cycle</th>\n",
       "      <th>engine_id</th>\n",
       "      <th>health_state</th>\n",
       "      <th>remaining_useful_life</th>\n",
       "      <th>alert_count</th>\n",
       "      <th>sensor_1</th>\n",
       "      <th>sensor_2</th>\n",
       "      <th>sensor_3</th>\n",
       "      <th>sensor_4</th>\n",
       "      <th>sensor_7</th>\n",
       "      <th>...</th>\n",
       "      <th>sensor_9</th>\n",
       "      <th>sensor_13</th>\n",
       "      <th>sensor_14</th>\n",
       "      <th>sensor_11</th>\n",
       "      <th>sensor_15</th>\n",
       "      <th>sensor_17</th>\n",
       "      <th>sensor_20</th>\n",
       "      <th>sensor_21</th>\n",
       "      <th>sensor_18</th>\n",
       "      <th>sensor_19</th>\n",
       "    </tr>\n",
       "  </thead>\n",
       "  <tbody>\n",
       "    <tr>\n",
       "      <th>0</th>\n",
       "      <td>1</td>\n",
       "      <td>RR_TRENT_1001</td>\n",
       "      <td>healthy</td>\n",
       "      <td>205</td>\n",
       "      <td>0</td>\n",
       "      <td>518.67</td>\n",
       "      <td>640.62</td>\n",
       "      <td>1584.34</td>\n",
       "      <td>1381.58</td>\n",
       "      <td>551.87</td>\n",
       "      <td>...</td>\n",
       "      <td>9216.72</td>\n",
       "      <td>2388.49</td>\n",
       "      <td>8107.97</td>\n",
       "      <td>47.37</td>\n",
       "      <td>8.33</td>\n",
       "      <td>390.16</td>\n",
       "      <td>39.52</td>\n",
       "      <td>22.93</td>\n",
       "      <td>2388.0</td>\n",
       "      <td>100.0</td>\n",
       "    </tr>\n",
       "    <tr>\n",
       "      <th>1</th>\n",
       "      <td>1</td>\n",
       "      <td>RR_TRENT_1002</td>\n",
       "      <td>degrading</td>\n",
       "      <td>265</td>\n",
       "      <td>1</td>\n",
       "      <td>518.67</td>\n",
       "      <td>642.00</td>\n",
       "      <td>1586.82</td>\n",
       "      <td>1457.46</td>\n",
       "      <td>554.52</td>\n",
       "      <td>...</td>\n",
       "      <td>9205.91</td>\n",
       "      <td>2388.48</td>\n",
       "      <td>8280.33</td>\n",
       "      <td>48.12</td>\n",
       "      <td>8.53</td>\n",
       "      <td>394.10</td>\n",
       "      <td>39.30</td>\n",
       "      <td>23.21</td>\n",
       "      <td>2388.0</td>\n",
       "      <td>100.0</td>\n",
       "    </tr>\n",
       "    <tr>\n",
       "      <th>2</th>\n",
       "      <td>1</td>\n",
       "      <td>RR_TRENT_1003</td>\n",
       "      <td>healthy</td>\n",
       "      <td>361</td>\n",
       "      <td>0</td>\n",
       "      <td>518.67</td>\n",
       "      <td>643.77</td>\n",
       "      <td>1604.84</td>\n",
       "      <td>1409.94</td>\n",
       "      <td>556.27</td>\n",
       "      <td>...</td>\n",
       "      <td>9118.99</td>\n",
       "      <td>2388.09</td>\n",
       "      <td>8238.92</td>\n",
       "      <td>47.95</td>\n",
       "      <td>8.49</td>\n",
       "      <td>393.03</td>\n",
       "      <td>39.22</td>\n",
       "      <td>23.71</td>\n",
       "      <td>2388.0</td>\n",
       "      <td>100.0</td>\n",
       "    </tr>\n",
       "    <tr>\n",
       "      <th>3</th>\n",
       "      <td>2</td>\n",
       "      <td>RR_TRENT_1001</td>\n",
       "      <td>healthy</td>\n",
       "      <td>204</td>\n",
       "      <td>0</td>\n",
       "      <td>518.67</td>\n",
       "      <td>642.99</td>\n",
       "      <td>1577.02</td>\n",
       "      <td>1414.85</td>\n",
       "      <td>552.30</td>\n",
       "      <td>...</td>\n",
       "      <td>9198.30</td>\n",
       "      <td>2388.52</td>\n",
       "      <td>8285.60</td>\n",
       "      <td>47.78</td>\n",
       "      <td>8.45</td>\n",
       "      <td>393.50</td>\n",
       "      <td>39.32</td>\n",
       "      <td>23.41</td>\n",
       "      <td>2388.0</td>\n",
       "      <td>100.0</td>\n",
       "    </tr>\n",
       "    <tr>\n",
       "      <th>4</th>\n",
       "      <td>2</td>\n",
       "      <td>RR_TRENT_1002</td>\n",
       "      <td>healthy</td>\n",
       "      <td>264</td>\n",
       "      <td>0</td>\n",
       "      <td>518.67</td>\n",
       "      <td>641.36</td>\n",
       "      <td>1582.71</td>\n",
       "      <td>1400.46</td>\n",
       "      <td>553.44</td>\n",
       "      <td>...</td>\n",
       "      <td>9182.75</td>\n",
       "      <td>2388.36</td>\n",
       "      <td>8171.94</td>\n",
       "      <td>46.77</td>\n",
       "      <td>8.51</td>\n",
       "      <td>400.97</td>\n",
       "      <td>38.95</td>\n",
       "      <td>23.52</td>\n",
       "      <td>2388.0</td>\n",
       "      <td>100.0</td>\n",
       "    </tr>\n",
       "  </tbody>\n",
       "</table>\n",
       "<p>5 rows × 26 columns</p>\n",
       "</div>"
      ],
      "text/plain": [
       "   cycle      engine_id health_state  remaining_useful_life  alert_count  \\\n",
       "0      1  RR_TRENT_1001      healthy                    205            0   \n",
       "1      1  RR_TRENT_1002    degrading                    265            1   \n",
       "2      1  RR_TRENT_1003      healthy                    361            0   \n",
       "3      2  RR_TRENT_1001      healthy                    204            0   \n",
       "4      2  RR_TRENT_1002      healthy                    264            0   \n",
       "\n",
       "   sensor_1  sensor_2  sensor_3  sensor_4  sensor_7  ...  sensor_9  sensor_13  \\\n",
       "0    518.67    640.62   1584.34   1381.58    551.87  ...   9216.72    2388.49   \n",
       "1    518.67    642.00   1586.82   1457.46    554.52  ...   9205.91    2388.48   \n",
       "2    518.67    643.77   1604.84   1409.94    556.27  ...   9118.99    2388.09   \n",
       "3    518.67    642.99   1577.02   1414.85    552.30  ...   9198.30    2388.52   \n",
       "4    518.67    641.36   1582.71   1400.46    553.44  ...   9182.75    2388.36   \n",
       "\n",
       "   sensor_14  sensor_11  sensor_15  sensor_17  sensor_20  sensor_21  \\\n",
       "0    8107.97      47.37       8.33     390.16      39.52      22.93   \n",
       "1    8280.33      48.12       8.53     394.10      39.30      23.21   \n",
       "2    8238.92      47.95       8.49     393.03      39.22      23.71   \n",
       "3    8285.60      47.78       8.45     393.50      39.32      23.41   \n",
       "4    8171.94      46.77       8.51     400.97      38.95      23.52   \n",
       "\n",
       "   sensor_18  sensor_19  \n",
       "0     2388.0      100.0  \n",
       "1     2388.0      100.0  \n",
       "2     2388.0      100.0  \n",
       "3     2388.0      100.0  \n",
       "4     2388.0      100.0  \n",
       "\n",
       "[5 rows x 26 columns]"
      ]
     },
     "execution_count": 5,
     "metadata": {},
     "output_type": "execute_result"
    }
   ],
   "source": [
    "# Create engines with different health states\n",
    "engines = {\n",
    "    'healthy': EngineSimulator(\"RR_TRENT_1001\", schema, \"healthy\"),\n",
    "    'degrading': EngineSimulator(\"RR_TRENT_1002\", schema, \"degrading\"),\n",
    "    'critical': EngineSimulator(\"RR_TRENT_1003\", schema, \"critical\")\n",
    "}\n",
    "\n",
    "# Generate data for multiple cycles\n",
    "simulation_data = []\n",
    "cycles_to_simulate = 50\n",
    "\n",
    "print(f\"🔄 Generating {cycles_to_simulate} cycles of data for each engine...\")\n",
    "\n",
    "for cycle in range(1, cycles_to_simulate + 1):\n",
    "    for health_state, engine in engines.items():\n",
    "        reading = engine.generate_reading()\n",
    "        \n",
    "        # Flatten the data for analysis\n",
    "        flat_data = {\n",
    "            'cycle': reading['cycle'],\n",
    "            'engine_id': reading['engine_id'],\n",
    "            'health_state': reading['health_state'],\n",
    "            'remaining_useful_life': reading['remaining_useful_life'],\n",
    "            'alert_count': len(reading['alerts'])\n",
    "        }\n",
    "        \n",
    "        # Add sensor values\n",
    "        for sensor_id, value in reading['sensors'].items():\n",
    "            flat_data[sensor_id] = value\n",
    "        \n",
    "        simulation_data.append(flat_data)\n",
    "\n",
    "# Create DataFrame\n",
    "df = pd.DataFrame(simulation_data)\n",
    "\n",
    "print(f\"✅ Generated {len(df)} data points\")\n",
    "print(f\"📊 Data shape: {df.shape}\")\n",
    "print(f\"🏥 Health states: {df['health_state'].value_counts().to_dict()}\")\n",
    "\n",
    "df.head()"
   ]
  },
  {
   "cell_type": "markdown",
   "id": "b36980ea",
   "metadata": {},
   "source": [
    "## 5. Visualize Sensor Trends by Health State"
   ]
  },
  {
   "cell_type": "code",
   "execution_count": 6,
   "id": "b703faa2",
   "metadata": {},
   "outputs": [
    {
     "data": {
      "application/vnd.plotly.v1+json": {
       "config": {
        "plotlyServerURL": "https://plot.ly"
       },
       "data": [
        {
         "line": {
          "color": "green"
         },
         "mode": "lines+markers",
         "name": "Healthy",
         "showlegend": true,
         "type": "scatter",
         "x": {
          "bdata": "AQECAgIDAwMEBAQFBQUGBgYHBwcICAgJCQkKCgoLCwsMDAwNDQ0ODg4PDw8QEBARERESEhMTExQUFRUWFhcXFxgYGBkZGhoaGxsbHBwcHR0dHh4eHx8fICAhISEiIiMjIyQkJCUlJSYmJicnJygoKCkpKSoqKyssLCwtLS0uLi4vLzAwMTExMjI=",
          "dtype": "i1"
         },
         "xaxis": "x",
         "y": {
          "bdata": "KVyPwvUEhEBcj8L1KB6EQFK4HoXrF4RAexSuR+EKhECamZmZmROEQLgehetREoRAKVyPwvUchEDXo3A9Ch2EQOF6FK5HGYRApHA9CtcZhECkcD0K1xWEQLgehetRFoRArkfhehQYhEBmZmZmZhKEQK5H4XoUEIRA7FG4HoUPhEAfhetRuAyEQM3MzMzMBoRAcT0K16MQhECamZmZmRuEQNejcD0KH4RAXI/C9SgEhEAzMzMzMxOEQPYoXI/CCYRAZmZmZmYUhEC4HoXrUSaEQJqZmZmZIYRAMzMzMzMXhEB7FK5H4SSEQClcj8L1FIRAPQrXo3AlhEDsUbgehSOEQEjhehSuF4RA4XoUrkcRhED2KFyPwg+EQHE9CtejGIRAuB6F61EWhEAzMzMzMxOEQFK4HoXrIYRAH4XrUbgghEC4HoXrURqEQArXo3A9BIRAj8L1KFwXhEBxPQrXow6EQFyPwvUoIoRA4XoUrkcHhEBxPQrXowyEQJqZmZmZE4RArkfhehQYhEDsUbgehROEQDMzMzMzGYRAH4XrUbgOhEDNzMzMzAqEQKRwPQrXBYRAFK5H4XoehECuR+F6FBaEQMP1KFyPGoRAmpmZmZkbhEApXI/C9RKEQArXo3A9FoRAPQrXo3AThEAUrkfhehiEQM3MzMzMDIRAmpmZmZkLhEAfhetRuBSEQJqZmZmZF4RA7FG4HoUjhEAzMzMzMxeEQIXrUbgeHYRASOF6FK4fhEDhehSuRwuEQArXo3A9GIRAj8L1KFwnhEC4HoXrURiEQLgehetRIIRAuB6F61EKhECkcD0K1weEQJqZmZmZEYRA9ihcj8INhEBI4XoUrguEQB+F61G4GoRA7FG4HoUFhECkcD0K1w+EQMP1KFyPEoRAw/UoXI8YhECPwvUoXBeEQFyPwvUoDIRAexSuR+EUhEB7FK5H4RaEQFK4HoXrF4RAAAAAAAAYhEBcj8L1KA6EQIXrUbgeEYRASOF6FK4PhECkcD0K1xuEQHsUrkfhDoRAZmZmZmYehEAfhetRuBKEQNejcD0KJYRAXI/C9SgMhEAAAAAAABiEQGZmZmZmCoRAzczMzMwOhEAzMzMzMyOEQFyPwvUoFoRAFK5H4XoYhEDsUbgehRmEQD0K16NwFYRAUrgehesdhECuR+F6FBaEQClcj8L1GoRAZmZmZmYehEBcj8L1KBiEQMP1KFyPHIRAuB6F61EQhEBSuB6F6x2EQAAAAAAAFIRAw/UoXI8QhEAfhetRuCCEQJqZmZmZD4RAcT0K16MahECamZmZmQuEQClcj8L1IoRAcT0K16MWhEDD9ShcjySEQArXo3A9IIRA16NwPQoZhEBcj8L1KBaEQEjhehSuH4RAmpmZmZkVhECamZmZmQ+EQOxRuB6FF4RAXI/C9SgchEAK16NwPR6EQDMzMzMzH4RAPQrXo3AdhEDhehSuRxeEQA==",
          "dtype": "f8"
         },
         "yaxis": "y"
        },
        {
         "line": {
          "color": "orange"
         },
         "mode": "lines+markers",
         "name": "Degrading",
         "showlegend": true,
         "type": "scatter",
         "x": {
          "bdata": "ARIUFRYZICIqKy8wMg==",
          "dtype": "i1"
         },
         "xaxis": "x",
         "y": {
          "bdata": "AAAAAAAQhEDsUbgehR2EQLgehetRHIRASOF6FK4nhEB7FK5H4SiEQMP1KFyPIIRAuB6F61EqhEBxPQrXoxyEQPYoXI/CDYRApHA9CtcJhECF61G4Hh+EQClcj8L1GIRAFK5H4XoYhEA=",
          "dtype": "f8"
         },
         "yaxis": "y"
        },
        {
         "line": {
          "color": "red"
         },
         "mode": "lines+markers",
         "name": "Critical",
         "showlegend": true,
         "type": "scatter",
         "x": [],
         "xaxis": "x",
         "y": [],
         "yaxis": "y"
        },
        {
         "line": {
          "color": "green"
         },
         "mode": "lines+markers",
         "name": "Healthy",
         "showlegend": false,
         "type": "scatter",
         "x": {
          "bdata": "AQECAgIDAwMEBAQFBQUGBgYHBwcICAgJCQkKCgoLCwsMDAwNDQ0ODg4PDw8QEBARERESEhMTExQUFRUWFhcXFxgYGBkZGhoaGxsbHBwcHR0dHh4eHx8fICAhISEiIiMjIyQkJCUlJSYmJicnJygoKCkpKSoqKyssLCwtLS0uLi4vLzAwMTExMjI=",
          "dtype": "i1"
         },
         "xaxis": "x2",
         "y": {
          "bdata": "j8L1KFzBmECPwvUoXBOZQK5H4XoUpJhApHA9Cte6mEBI4XoUrtqYQNejcD0KEJlA16NwPQqSmECF61G4HjGZQFyPwvUo0phA9ihcj8I1mUBSuB6F6/mYQDMzMzMzuJhAMzMzMzPHmEC4HoXrUReZQHsUrkfhPZlAKVyPwvU0mUDsUbgehSOZQI/C9ShcnZhAZmZmZmbomEBmZmZmZiuZQGZmZmZm4phAFK5H4XrYmECPwvUoXPCYQD0K16NwFplAFK5H4XrKmECuR+F6FOqYQB+F61G4iZhAmpmZmZnpmEB7FK5H4Y+YQHE9Ctej+phAPQrXo3DumEBI4XoUrsyYQEjhehSuq5hAzczMzMwNmUAzMzMzM/WYQK5H4XoUuphA4XoUrke8mED2KFyPwiiZQD0K16NwMZlAexSuR+HkmECuR+F6FM2YQI/C9ShctphAXI/C9SgImUBcj8L1KAWZQKRwPQrXvJhA16NwPQoBmUAAAAAAACiZQFK4HoXrKZlAj8L1KFyWmEDhehSuR+GYQHsUrkfh15hAXI/C9SjbmEDXo3A9CsaYQLgehetRrZhArkfhehTEmEBmZmZmZrOYQHE9CtejHZlASOF6FK7KmEA9CtejcKOYQEjhehSuD5lAuB6F61GymEAAAAAAANeYQArXo3A9mphA9ihcj8KXmECamZmZmQ2ZQBSuR+F6IJlAFK5H4XoqmUCkcD0K1zeZQK5H4XoUyJhACtejcD2JmEApXI/C9SeZQK5H4XoUoZhAFK5H4XqbmECPwvUoXCeZQFK4HoXr8phAj8L1KFz+mEAK16NwPTiZQIXrUbgeEZlAMzMzMzP9mECF61G4HtuYQMP1KFyPEZlAH4XrUbismEBSuB6F6ySZQDMzMzMzu5hASOF6FK62mEBxPQrXo32YQClcj8L1z5hAcT0K16MxmUBxPQrXo7uYQPYoXI/CsJhAj8L1KFy1mEDNzMzMzEKZQJqZmZmZ5JhAzczMzMzrmEAfhetRuKyYQFK4HoXr1phAmpmZmZnzmEAfhetRuKeYQFyPwvUoFplApHA9Ctf5mEA9CtejcAqZQLgehetRKZlAMzMzMzOTmEAzMzMzM6+YQArXo3A99phAexSuR+GlmECF61G4HhSZQGZmZmZm5JhAcT0K16MimUBcj8L1KEOZQFyPwvUohJhAmpmZmZkZmUC4HoXrUYqYQHsUrkfhxphA7FG4HoXZmED2KFyPwgCZQI/C9ShctZhAXI/C9ShLmUBmZmZmZg2ZQI/C9ShcqphArkfhehQcmUAAAAAAAIaYQMP1KFyPJ5lAPQrXo3CQmEDsUbgehUKZQHE9CtejnJhArkfhehTFmED2KFyPwoqYQOxRuB6F6phAexSuR+G/mEBxPQrXo/yYQOF6FK5HFplAFK5H4XoAmUBxPQrXo9KYQIXrUbgeGZlASOF6FK7+mECPwvUoXISYQA==",
          "dtype": "f8"
         },
         "yaxis": "y2"
        },
        {
         "line": {
          "color": "orange"
         },
         "mode": "lines+markers",
         "name": "Degrading",
         "showlegend": false,
         "type": "scatter",
         "x": {
          "bdata": "ARIUFRYZICIqKy8wMg==",
          "dtype": "i1"
         },
         "xaxis": "x2",
         "y": {
          "bdata": "4XoUrkfLmEAK16NwPX2YQAAAAAAAxJhAzczMzMwLmUA9CtejcLmYQB+F61G4EplAFK5H4Xr9mECPwvUoXPaYQAAAAAAAL5lA9ihcj8IImUDD9ShcjwuZQM3MzMzMZJlAexSuR+FqmUA=",
          "dtype": "f8"
         },
         "yaxis": "y2"
        },
        {
         "line": {
          "color": "red"
         },
         "mode": "lines+markers",
         "name": "Critical",
         "showlegend": false,
         "type": "scatter",
         "x": [],
         "xaxis": "x2",
         "y": [],
         "yaxis": "y2"
        },
        {
         "line": {
          "color": "green"
         },
         "mode": "lines+markers",
         "name": "Healthy",
         "showlegend": false,
         "type": "scatter",
         "x": {
          "bdata": "AQECAgIDAwMEBAQFBQUGBgYHBwcICAgJCQkKCgoLCwsMDAwNDQ0ODg4PDw8QEBARERESEhMTExQUFRUWFhcXFxgYGBkZGhoaGxsbHBwcHR0dHh4eHx8fICAhISEiIiMjIyQkJCUlJSYmJicnJygoKCkpKSoqKyssLCwtLS0uLi4vLzAwMTExMjI=",
          "dtype": "i1"
         },
         "xaxis": "x3",
         "y": {
          "bdata": "uB6F61GWlUD2KFyPwgeWQGZmZmZmG5ZApHA9CtfhlUB7FK5H4fuVQI/C9ShcKZZAj8L1KFzIlUCF61G4HmuWQAAAAAAACpZA7FG4HoU3lkBmZmZmZvCVQLgehetRIZZAmpmZmZm6lUBmZmZmZuuVQClcj8L1pZVAMzMzMzPflUD2KFyPwoWVQHsUrkfh5pVArkfhehRRlkAK16NwPaiVQAAAAAAAQpZAzczMzMy+lUCkcD0K1+qVQFK4HoXrlJVA4XoUrkc4lkCamZmZmTyWQHE9CtejvpVAhetRuB6LlkBxPQrXo12WQClcj8L1+JVAH4XrUbjHlUCamZmZmQCWQLgehetRI5ZAj8L1KFwPlkDNzMzMzPaVQNejcD0KeJZAj8L1KFx1lkBI4XoUrlaWQMP1KFyPS5ZArkfhehQtlkCkcD0K16+VQGZmZmZmupVAMzMzMzOXlUAUrkfheuuVQIXrUbge/JVASOF6FK5zlkApXI/C9X2WQClcj8L1zZVAXI/C9SiBlkAAAAAAALmVQIXrUbgeZ5ZAKVyPwvVDlkCuR+F6FLiVQClcj8L1Z5ZAMzMzMzPAlUBSuB6F60eWQMP1KFyPHpZA7FG4HoV4lkCuR+F6FCeWQOF6FK5HXZZAj8L1KFyrlUAK16NwPfyVQOxRuB6Fu5VA4XoUrkeylUD2KFyPwmaWQHE9CtejspVAhetRuB4QlkCPwvUoXCOWQLgehetRP5ZASOF6FK66lUBcj8L1KCyWQPYoXI/C7ZVAhetRuB72lUDNzMzMzEKWQHsUrkfh9ZVA4XoUrkfGlUCamZmZmXqWQAAAAAAAgZZAj8L1KFySlkB7FK5H4fuVQKRwPQrXC5ZAPQrXo3BOlkAUrkfhevuVQEjhehSuJ5ZAZmZmZmZplkCPwvUoXDGWQOxRuB6FWpZAKVyPwvVilkBcj8L1KFmVQGZmZmZmwJVA7FG4HoVjlkCPwvUoXFiWQIXrUbge85VAhetRuB4ElkAzMzMzM2OWQFyPwvUoiJZAcT0K16MqlkBI4XoUrl6WQJqZmZmZcJZAexSuR+FwlkDNzMzMzBSWQOF6FK5Ha5ZAKVyPwvVWlkCkcD0K10WWQOxRuB6FX5ZA4XoUrkcolkDXo3A9CtGVQClcj8L10pVAuB6F61HflUDD9ShcjwGWQAAAAAAA6pVAw/UoXI98lUBSuB6F602WQAAAAAAARZZACtejcD0+lkBmZmZmZhiWQOxRuB6Fj5VAH4XrUbhalkBmZmZmZiiWQDMzMzMzhJZAH4XrUbialUB7FK5H4TqWQM3MzMzMO5ZAKVyPwvXblUBSuB6F6+yVQFyPwvUoU5ZAj8L1KFwklkDXo3A9ChGWQAAAAAAAdJZAZmZmZmYvlkCPwvUoXNOVQLgehetRxJVASOF6FK7OlUBmZmZmZtmVQClcj8L17JVAj8L1KFyulUAzMzMzM6+VQA==",
          "dtype": "f8"
         },
         "yaxis": "y3"
        },
        {
         "line": {
          "color": "orange"
         },
         "mode": "lines+markers",
         "name": "Degrading",
         "showlegend": false,
         "type": "scatter",
         "x": {
          "bdata": "ARIUFRYZICIqKy8wMg==",
          "dtype": "i1"
         },
         "xaxis": "x3",
         "y": {
          "bdata": "pHA9CtfFlkC4HoXrUWiWQGZmZmZmo5ZAAAAAAAB2lkBxPQrXo1yWQK5H4XoUo5ZAcT0K16P/lUCuR+F6FJSWQDMzMzMzwZZAKVyPwvUClkApXI/C9auWQB+F61G4rpVAUrgehet4lkA=",
          "dtype": "f8"
         },
         "yaxis": "y3"
        },
        {
         "line": {
          "color": "red"
         },
         "mode": "lines+markers",
         "name": "Critical",
         "showlegend": false,
         "type": "scatter",
         "x": [],
         "xaxis": "x3",
         "y": [],
         "yaxis": "y3"
        },
        {
         "line": {
          "color": "green"
         },
         "mode": "lines+markers",
         "name": "Healthy",
         "showlegend": false,
         "type": "scatter",
         "x": {
          "bdata": "AQECAgIDAwMEBAQFBQUGBgYHBwcICAgJCQkKCgoLCwsMDAwNDQ0ODg4PDw8QEBARERESEhMTExQUFRUWFhcXFxgYGBkZGhoaGxsbHBwcHR0dHh4eHx8fICAhISEiIiMjIyQkJCUlJSYmJicnJygoKCkpKSoqKyssLCwtLS0uLi4vLzAwMTExMjI=",
          "dtype": "i1"
         },
         "xaxis": "x4",
         "y": {
          "bdata": "j8L1KFyvR0CamZmZmflHQKRwPQrX40dAw/UoXI9iR0CkcD0K12NHQGZmZmZmxkdApHA9CtfjR0DXo3A9CpdHQHE9CtejsEdA9ihcj8LVR0BxPQrXo/BHQHsUrkfhukdAZmZmZmYmSEAUrkfhepRHQKRwPQrXQ0hA16NwPQoXSEBcj8L1KBxIQHsUrkfhOkdASOF6FK4nSECamZmZmZlHQLgehetRWEdA9ihcj8J1R0BI4XoUrgdIQNejcD0K90dA9ihcj8JVR0AUrkfhejRIQArXo3A9ykdAj8L1KFzvR0BxPQrXo7BHQM3MzMzMzEdAcT0K16PQR0BSuB6F65FHQFK4HoXr0UdAH4XrUbjeR0CkcD0K18NHQFyPwvUoPEhAZmZmZmaGR0AK16NwPUpIQNejcD0Kl0dArkfhehQuSECamZmZmZlHQFK4HoXrkUdAFK5H4XrUR0AAAAAAAIBHQKRwPQrXo0dAw/UoXI9CSEC4HoXrUdhHQOF6FK5HIUhAZmZmZmZGR0CF61G4HsVHQK5H4XoUzkdAZmZmZmZGSECF61G4HgVIQEjhehSuZ0dArkfhehTuR0AfhetRuJ5HQM3MzMzMrEdApHA9CtcDSEC4HoXrUfhHQB+F61G4vkdApHA9CtfjR0DhehSuRwFIQB+F61G43kdAuB6F61GYR0DhehSuRyFIQKRwPQrXo0dAcT0K16PwR0CF61G4HuVHQK5H4XoUDkhA16NwPQqXR0D2KFyPwpVHQGZmZmZm5kdAKVyPwvXoR0CPwvUoXC9IQClcj8L16EdAw/UoXI/CR0AfhetRuB5IQOxRuB6Fq0dA16NwPQrXR0AK16NwPSpHQDMzMzMzM0hA9ihcj8K1R0ApXI/C9YhHQJqZmZmZGUhAj8L1KFzvR0BI4XoUrgdIQHsUrkfhukdAZmZmZmZmR0CF61G4HkVIQMP1KFyPQkhACtejcD1KR0AUrkfhepRHQKRwPQrX40dASOF6FK6nR0AK16NwPapHQLgehetROEhApHA9CtdDSEBcj8L1KFxHQHsUrkfhWkhAUrgeheuRR0AK16NwPapHQArXo3A96kdAw/UoXI8CSEBcj8L1KLxHQB+F61G4fkdAuB6F61F4R0BI4XoUrgdIQAAAAAAAwEdAPQrXo3CdR0ApXI/C9YhHQLgehetR2EdAw/UoXI/CR0DsUbgehWtHQFyPwvUoPEdAH4XrUbjeR0CF61G4HgVIQM3MzMzMbEdArkfhehTOR0BmZmZmZoZHQHE9CtejMEhA4XoUrkfhR0CamZmZmblHQJqZmZmZGUhAcT0K16MwSEBSuB6F65FHQM3MzMzMLEhAj8L1KFyPR0ApXI/C9ehHQK5H4XoUzkdArkfhehTOR0AUrkfherRHQOxRuB6FK0hAFK5H4Xo0SEC4HoXrUbhHQK5H4XoUTkdAmpmZmZnZR0BxPQrXoxBIQA==",
          "dtype": "f8"
         },
         "yaxis": "y4"
        },
        {
         "line": {
          "color": "orange"
         },
         "mode": "lines+markers",
         "name": "Degrading",
         "showlegend": false,
         "type": "scatter",
         "x": {
          "bdata": "ARIUFRYZICIqKy8wMg==",
          "dtype": "i1"
         },
         "xaxis": "x4",
         "y": {
          "bdata": "j8L1KFwPSEA9CtejcJ1IQK5H4XoUTkhAhetRuB4FSEDXo3A9CldIQHsUrkfhekdAcT0K16PwR0AUrkfhevRHQHE9CtejkEdAw/UoXI+CSEAAAAAAAOBHQFK4HoXr0UdAH4XrUbj+R0A=",
          "dtype": "f8"
         },
         "yaxis": "y4"
        },
        {
         "line": {
          "color": "red"
         },
         "mode": "lines+markers",
         "name": "Critical",
         "showlegend": false,
         "type": "scatter",
         "x": [],
         "xaxis": "x4",
         "y": [],
         "yaxis": "y4"
        }
       ],
       "layout": {
        "annotations": [
         {
          "font": {
           "size": 16
          },
          "showarrow": false,
          "text": "Total Temperature T24 (°R)",
          "x": 0.225,
          "xanchor": "center",
          "xref": "paper",
          "y": 1,
          "yanchor": "bottom",
          "yref": "paper"
         },
         {
          "font": {
           "size": 16
          },
          "showarrow": false,
          "text": "Total Temperature T30 (°R)",
          "x": 0.775,
          "xanchor": "center",
          "xref": "paper",
          "y": 1,
          "yanchor": "bottom",
          "yref": "paper"
         },
         {
          "font": {
           "size": 16
          },
          "showarrow": false,
          "text": "Total Temperature T50 (°R)",
          "x": 0.225,
          "xanchor": "center",
          "xref": "paper",
          "y": 0.46,
          "yanchor": "bottom",
          "yref": "paper"
         },
         {
          "font": {
           "size": 16
          },
          "showarrow": false,
          "text": "Bypass Ratio",
          "x": 0.775,
          "xanchor": "center",
          "xref": "paper",
          "y": 0.46,
          "yanchor": "bottom",
          "yref": "paper"
         }
        ],
        "height": 600,
        "showlegend": true,
        "template": {
         "data": {
          "bar": [
           {
            "error_x": {
             "color": "#2a3f5f"
            },
            "error_y": {
             "color": "#2a3f5f"
            },
            "marker": {
             "line": {
              "color": "#E5ECF6",
              "width": 0.5
             },
             "pattern": {
              "fillmode": "overlay",
              "size": 10,
              "solidity": 0.2
             }
            },
            "type": "bar"
           }
          ],
          "barpolar": [
           {
            "marker": {
             "line": {
              "color": "#E5ECF6",
              "width": 0.5
             },
             "pattern": {
              "fillmode": "overlay",
              "size": 10,
              "solidity": 0.2
             }
            },
            "type": "barpolar"
           }
          ],
          "carpet": [
           {
            "aaxis": {
             "endlinecolor": "#2a3f5f",
             "gridcolor": "white",
             "linecolor": "white",
             "minorgridcolor": "white",
             "startlinecolor": "#2a3f5f"
            },
            "baxis": {
             "endlinecolor": "#2a3f5f",
             "gridcolor": "white",
             "linecolor": "white",
             "minorgridcolor": "white",
             "startlinecolor": "#2a3f5f"
            },
            "type": "carpet"
           }
          ],
          "choropleth": [
           {
            "colorbar": {
             "outlinewidth": 0,
             "ticks": ""
            },
            "type": "choropleth"
           }
          ],
          "contour": [
           {
            "colorbar": {
             "outlinewidth": 0,
             "ticks": ""
            },
            "colorscale": [
             [
              0,
              "#0d0887"
             ],
             [
              0.1111111111111111,
              "#46039f"
             ],
             [
              0.2222222222222222,
              "#7201a8"
             ],
             [
              0.3333333333333333,
              "#9c179e"
             ],
             [
              0.4444444444444444,
              "#bd3786"
             ],
             [
              0.5555555555555556,
              "#d8576b"
             ],
             [
              0.6666666666666666,
              "#ed7953"
             ],
             [
              0.7777777777777778,
              "#fb9f3a"
             ],
             [
              0.8888888888888888,
              "#fdca26"
             ],
             [
              1,
              "#f0f921"
             ]
            ],
            "type": "contour"
           }
          ],
          "contourcarpet": [
           {
            "colorbar": {
             "outlinewidth": 0,
             "ticks": ""
            },
            "type": "contourcarpet"
           }
          ],
          "heatmap": [
           {
            "colorbar": {
             "outlinewidth": 0,
             "ticks": ""
            },
            "colorscale": [
             [
              0,
              "#0d0887"
             ],
             [
              0.1111111111111111,
              "#46039f"
             ],
             [
              0.2222222222222222,
              "#7201a8"
             ],
             [
              0.3333333333333333,
              "#9c179e"
             ],
             [
              0.4444444444444444,
              "#bd3786"
             ],
             [
              0.5555555555555556,
              "#d8576b"
             ],
             [
              0.6666666666666666,
              "#ed7953"
             ],
             [
              0.7777777777777778,
              "#fb9f3a"
             ],
             [
              0.8888888888888888,
              "#fdca26"
             ],
             [
              1,
              "#f0f921"
             ]
            ],
            "type": "heatmap"
           }
          ],
          "histogram": [
           {
            "marker": {
             "pattern": {
              "fillmode": "overlay",
              "size": 10,
              "solidity": 0.2
             }
            },
            "type": "histogram"
           }
          ],
          "histogram2d": [
           {
            "colorbar": {
             "outlinewidth": 0,
             "ticks": ""
            },
            "colorscale": [
             [
              0,
              "#0d0887"
             ],
             [
              0.1111111111111111,
              "#46039f"
             ],
             [
              0.2222222222222222,
              "#7201a8"
             ],
             [
              0.3333333333333333,
              "#9c179e"
             ],
             [
              0.4444444444444444,
              "#bd3786"
             ],
             [
              0.5555555555555556,
              "#d8576b"
             ],
             [
              0.6666666666666666,
              "#ed7953"
             ],
             [
              0.7777777777777778,
              "#fb9f3a"
             ],
             [
              0.8888888888888888,
              "#fdca26"
             ],
             [
              1,
              "#f0f921"
             ]
            ],
            "type": "histogram2d"
           }
          ],
          "histogram2dcontour": [
           {
            "colorbar": {
             "outlinewidth": 0,
             "ticks": ""
            },
            "colorscale": [
             [
              0,
              "#0d0887"
             ],
             [
              0.1111111111111111,
              "#46039f"
             ],
             [
              0.2222222222222222,
              "#7201a8"
             ],
             [
              0.3333333333333333,
              "#9c179e"
             ],
             [
              0.4444444444444444,
              "#bd3786"
             ],
             [
              0.5555555555555556,
              "#d8576b"
             ],
             [
              0.6666666666666666,
              "#ed7953"
             ],
             [
              0.7777777777777778,
              "#fb9f3a"
             ],
             [
              0.8888888888888888,
              "#fdca26"
             ],
             [
              1,
              "#f0f921"
             ]
            ],
            "type": "histogram2dcontour"
           }
          ],
          "mesh3d": [
           {
            "colorbar": {
             "outlinewidth": 0,
             "ticks": ""
            },
            "type": "mesh3d"
           }
          ],
          "parcoords": [
           {
            "line": {
             "colorbar": {
              "outlinewidth": 0,
              "ticks": ""
             }
            },
            "type": "parcoords"
           }
          ],
          "pie": [
           {
            "automargin": true,
            "type": "pie"
           }
          ],
          "scatter": [
           {
            "fillpattern": {
             "fillmode": "overlay",
             "size": 10,
             "solidity": 0.2
            },
            "type": "scatter"
           }
          ],
          "scatter3d": [
           {
            "line": {
             "colorbar": {
              "outlinewidth": 0,
              "ticks": ""
             }
            },
            "marker": {
             "colorbar": {
              "outlinewidth": 0,
              "ticks": ""
             }
            },
            "type": "scatter3d"
           }
          ],
          "scattercarpet": [
           {
            "marker": {
             "colorbar": {
              "outlinewidth": 0,
              "ticks": ""
             }
            },
            "type": "scattercarpet"
           }
          ],
          "scattergeo": [
           {
            "marker": {
             "colorbar": {
              "outlinewidth": 0,
              "ticks": ""
             }
            },
            "type": "scattergeo"
           }
          ],
          "scattergl": [
           {
            "marker": {
             "colorbar": {
              "outlinewidth": 0,
              "ticks": ""
             }
            },
            "type": "scattergl"
           }
          ],
          "scattermap": [
           {
            "marker": {
             "colorbar": {
              "outlinewidth": 0,
              "ticks": ""
             }
            },
            "type": "scattermap"
           }
          ],
          "scattermapbox": [
           {
            "marker": {
             "colorbar": {
              "outlinewidth": 0,
              "ticks": ""
             }
            },
            "type": "scattermapbox"
           }
          ],
          "scatterpolar": [
           {
            "marker": {
             "colorbar": {
              "outlinewidth": 0,
              "ticks": ""
             }
            },
            "type": "scatterpolar"
           }
          ],
          "scatterpolargl": [
           {
            "marker": {
             "colorbar": {
              "outlinewidth": 0,
              "ticks": ""
             }
            },
            "type": "scatterpolargl"
           }
          ],
          "scatterternary": [
           {
            "marker": {
             "colorbar": {
              "outlinewidth": 0,
              "ticks": ""
             }
            },
            "type": "scatterternary"
           }
          ],
          "surface": [
           {
            "colorbar": {
             "outlinewidth": 0,
             "ticks": ""
            },
            "colorscale": [
             [
              0,
              "#0d0887"
             ],
             [
              0.1111111111111111,
              "#46039f"
             ],
             [
              0.2222222222222222,
              "#7201a8"
             ],
             [
              0.3333333333333333,
              "#9c179e"
             ],
             [
              0.4444444444444444,
              "#bd3786"
             ],
             [
              0.5555555555555556,
              "#d8576b"
             ],
             [
              0.6666666666666666,
              "#ed7953"
             ],
             [
              0.7777777777777778,
              "#fb9f3a"
             ],
             [
              0.8888888888888888,
              "#fdca26"
             ],
             [
              1,
              "#f0f921"
             ]
            ],
            "type": "surface"
           }
          ],
          "table": [
           {
            "cells": {
             "fill": {
              "color": "#EBF0F8"
             },
             "line": {
              "color": "white"
             }
            },
            "header": {
             "fill": {
              "color": "#C8D4E3"
             },
             "line": {
              "color": "white"
             }
            },
            "type": "table"
           }
          ]
         },
         "layout": {
          "annotationdefaults": {
           "arrowcolor": "#2a3f5f",
           "arrowhead": 0,
           "arrowwidth": 1
          },
          "autotypenumbers": "strict",
          "coloraxis": {
           "colorbar": {
            "outlinewidth": 0,
            "ticks": ""
           }
          },
          "colorscale": {
           "diverging": [
            [
             0,
             "#8e0152"
            ],
            [
             0.1,
             "#c51b7d"
            ],
            [
             0.2,
             "#de77ae"
            ],
            [
             0.3,
             "#f1b6da"
            ],
            [
             0.4,
             "#fde0ef"
            ],
            [
             0.5,
             "#f7f7f7"
            ],
            [
             0.6,
             "#e6f5d0"
            ],
            [
             0.7,
             "#b8e186"
            ],
            [
             0.8,
             "#7fbc41"
            ],
            [
             0.9,
             "#4d9221"
            ],
            [
             1,
             "#276419"
            ]
           ],
           "sequential": [
            [
             0,
             "#0d0887"
            ],
            [
             0.1111111111111111,
             "#46039f"
            ],
            [
             0.2222222222222222,
             "#7201a8"
            ],
            [
             0.3333333333333333,
             "#9c179e"
            ],
            [
             0.4444444444444444,
             "#bd3786"
            ],
            [
             0.5555555555555556,
             "#d8576b"
            ],
            [
             0.6666666666666666,
             "#ed7953"
            ],
            [
             0.7777777777777778,
             "#fb9f3a"
            ],
            [
             0.8888888888888888,
             "#fdca26"
            ],
            [
             1,
             "#f0f921"
            ]
           ],
           "sequentialminus": [
            [
             0,
             "#0d0887"
            ],
            [
             0.1111111111111111,
             "#46039f"
            ],
            [
             0.2222222222222222,
             "#7201a8"
            ],
            [
             0.3333333333333333,
             "#9c179e"
            ],
            [
             0.4444444444444444,
             "#bd3786"
            ],
            [
             0.5555555555555556,
             "#d8576b"
            ],
            [
             0.6666666666666666,
             "#ed7953"
            ],
            [
             0.7777777777777778,
             "#fb9f3a"
            ],
            [
             0.8888888888888888,
             "#fdca26"
            ],
            [
             1,
             "#f0f921"
            ]
           ]
          },
          "colorway": [
           "#636efa",
           "#EF553B",
           "#00cc96",
           "#ab63fa",
           "#FFA15A",
           "#19d3f3",
           "#FF6692",
           "#B6E880",
           "#FF97FF",
           "#FECB52"
          ],
          "font": {
           "color": "#2a3f5f"
          },
          "geo": {
           "bgcolor": "white",
           "lakecolor": "white",
           "landcolor": "#E5ECF6",
           "showlakes": true,
           "showland": true,
           "subunitcolor": "white"
          },
          "hoverlabel": {
           "align": "left"
          },
          "hovermode": "closest",
          "mapbox": {
           "style": "light"
          },
          "paper_bgcolor": "white",
          "plot_bgcolor": "#E5ECF6",
          "polar": {
           "angularaxis": {
            "gridcolor": "white",
            "linecolor": "white",
            "ticks": ""
           },
           "bgcolor": "#E5ECF6",
           "radialaxis": {
            "gridcolor": "white",
            "linecolor": "white",
            "ticks": ""
           }
          },
          "scene": {
           "xaxis": {
            "backgroundcolor": "#E5ECF6",
            "gridcolor": "white",
            "gridwidth": 2,
            "linecolor": "white",
            "showbackground": true,
            "ticks": "",
            "zerolinecolor": "white"
           },
           "yaxis": {
            "backgroundcolor": "#E5ECF6",
            "gridcolor": "white",
            "gridwidth": 2,
            "linecolor": "white",
            "showbackground": true,
            "ticks": "",
            "zerolinecolor": "white"
           },
           "zaxis": {
            "backgroundcolor": "#E5ECF6",
            "gridcolor": "white",
            "gridwidth": 2,
            "linecolor": "white",
            "showbackground": true,
            "ticks": "",
            "zerolinecolor": "white"
           }
          },
          "shapedefaults": {
           "line": {
            "color": "#2a3f5f"
           }
          },
          "ternary": {
           "aaxis": {
            "gridcolor": "white",
            "linecolor": "white",
            "ticks": ""
           },
           "baxis": {
            "gridcolor": "white",
            "linecolor": "white",
            "ticks": ""
           },
           "bgcolor": "#E5ECF6",
           "caxis": {
            "gridcolor": "white",
            "linecolor": "white",
            "ticks": ""
           }
          },
          "title": {
           "x": 0.05
          },
          "xaxis": {
           "automargin": true,
           "gridcolor": "white",
           "linecolor": "white",
           "ticks": "",
           "title": {
            "standoff": 15
           },
           "zerolinecolor": "white",
           "zerolinewidth": 2
          },
          "yaxis": {
           "automargin": true,
           "gridcolor": "white",
           "linecolor": "white",
           "ticks": "",
           "title": {
            "standoff": 15
           },
           "zerolinecolor": "white",
           "zerolinewidth": 2
          }
         }
        },
        "title": {
         "text": "Key Sensor Trends by Engine Health State"
        },
        "xaxis": {
         "anchor": "y",
         "domain": [
          0,
          0.45
         ]
        },
        "xaxis2": {
         "anchor": "y2",
         "domain": [
          0.55,
          1
         ]
        },
        "xaxis3": {
         "anchor": "y3",
         "domain": [
          0,
          0.45
         ]
        },
        "xaxis4": {
         "anchor": "y4",
         "domain": [
          0.55,
          1
         ]
        },
        "yaxis": {
         "anchor": "x",
         "domain": [
          0.54,
          1
         ]
        },
        "yaxis2": {
         "anchor": "x2",
         "domain": [
          0.54,
          1
         ]
        },
        "yaxis3": {
         "anchor": "x3",
         "domain": [
          0,
          0.46
         ]
        },
        "yaxis4": {
         "anchor": "x4",
         "domain": [
          0,
          0.46
         ]
        }
       }
      }
     },
     "metadata": {},
     "output_type": "display_data"
    },
    {
     "name": "stdout",
     "output_type": "stream",
     "text": [
      "🔍 Observations:\n",
      "• Temperature sensors show clear increasing trends in degrading/critical engines\n",
      "• Bypass ratio increases significantly with engine degradation\n",
      "• Critical engines show more erratic sensor behavior\n",
      "• Healthy engines maintain stable sensor values with minimal drift\n"
     ]
    }
   ],
   "source": [
    "# Select key sensors for visualization\n",
    "key_sensors = ['sensor_2', 'sensor_3', 'sensor_4', 'sensor_11']  # T24, T30, T50, Bypass_Ratio\n",
    "sensor_names = {\n",
    "    'sensor_2': 'Total Temperature T24 (°R)',\n",
    "    'sensor_3': 'Total Temperature T30 (°R)', \n",
    "    'sensor_4': 'Total Temperature T50 (°R)',\n",
    "    'sensor_11': 'Bypass Ratio'\n",
    "}\n",
    "\n",
    "# Create subplots\n",
    "fig = make_subplots(\n",
    "    rows=2, cols=2,\n",
    "    subplot_titles=[sensor_names[sensor] for sensor in key_sensors],\n",
    "    vertical_spacing=0.08\n",
    ")\n",
    "\n",
    "colors = {'healthy': 'green', 'degrading': 'orange', 'critical': 'red'}\n",
    "\n",
    "for i, sensor in enumerate(key_sensors):\n",
    "    row = (i // 2) + 1\n",
    "    col = (i % 2) + 1\n",
    "    \n",
    "    for health_state in ['healthy', 'degrading', 'critical']:\n",
    "        data = df[df['health_state'] == health_state]\n",
    "        \n",
    "        fig.add_trace(\n",
    "            go.Scatter(\n",
    "                x=data['cycle'],\n",
    "                y=data[sensor],\n",
    "                mode='lines+markers',\n",
    "                name=f'{health_state.capitalize()}',\n",
    "                line=dict(color=colors[health_state]),\n",
    "                showlegend=(i == 0)  # Only show legend for first subplot\n",
    "            ),\n",
    "            row=row, col=col\n",
    "        )\n",
    "\n",
    "fig.update_layout(\n",
    "    title=\"Key Sensor Trends by Engine Health State\",\n",
    "    height=600,\n",
    "    showlegend=True\n",
    ")\n",
    "\n",
    "fig.show()\n",
    "\n",
    "print(\"🔍 Observations:\")\n",
    "print(\"• Temperature sensors show clear increasing trends in degrading/critical engines\")\n",
    "print(\"• Bypass ratio increases significantly with engine degradation\")\n",
    "print(\"• Critical engines show more erratic sensor behavior\")\n",
    "print(\"• Healthy engines maintain stable sensor values with minimal drift\")"
   ]
  },
  {
   "cell_type": "markdown",
   "id": "c43d794b",
   "metadata": {},
   "source": [
    "## 6. Health State Classification Analysis"
   ]
  },
  {
   "cell_type": "code",
   "execution_count": 7,
   "id": "e0691b30",
   "metadata": {},
   "outputs": [
    {
     "name": "stdout",
     "output_type": "stream",
     "text": [
      "📊 Sensor Statistics by Health State\n",
      "============================================================\n",
      "\n",
      "🔧 Total Temperature T24 (°R):\n"
     ]
    },
    {
     "data": {
      "text/html": [
       "<div>\n",
       "<style scoped>\n",
       "    .dataframe tbody tr th:only-of-type {\n",
       "        vertical-align: middle;\n",
       "    }\n",
       "\n",
       "    .dataframe tbody tr th {\n",
       "        vertical-align: top;\n",
       "    }\n",
       "\n",
       "    .dataframe thead th {\n",
       "        text-align: right;\n",
       "    }\n",
       "</style>\n",
       "<table border=\"1\" class=\"dataframe\">\n",
       "  <thead>\n",
       "    <tr style=\"text-align: right;\">\n",
       "      <th></th>\n",
       "      <th>mean</th>\n",
       "      <th>std</th>\n",
       "      <th>min</th>\n",
       "      <th>max</th>\n",
       "    </tr>\n",
       "    <tr>\n",
       "      <th>health_state</th>\n",
       "      <th></th>\n",
       "      <th></th>\n",
       "      <th></th>\n",
       "      <th></th>\n",
       "    </tr>\n",
       "  </thead>\n",
       "  <tbody>\n",
       "    <tr>\n",
       "      <th>degrading</th>\n",
       "      <td>643.48</td>\n",
       "      <td>1.27</td>\n",
       "      <td>641.23</td>\n",
       "      <td>645.29</td>\n",
       "    </tr>\n",
       "    <tr>\n",
       "      <th>healthy</th>\n",
       "      <td>642.77</td>\n",
       "      <td>1.02</td>\n",
       "      <td>640.52</td>\n",
       "      <td>644.92</td>\n",
       "    </tr>\n",
       "  </tbody>\n",
       "</table>\n",
       "</div>"
      ],
      "text/plain": [
       "                mean   std     min     max\n",
       "health_state                              \n",
       "degrading     643.48  1.27  641.23  645.29\n",
       "healthy       642.77  1.02  640.52  644.92"
      ]
     },
     "metadata": {},
     "output_type": "display_data"
    },
    {
     "name": "stdout",
     "output_type": "stream",
     "text": [
      "\n",
      "🔧 Total Temperature T30 (°R):\n"
     ]
    },
    {
     "data": {
      "text/html": [
       "<div>\n",
       "<style scoped>\n",
       "    .dataframe tbody tr th:only-of-type {\n",
       "        vertical-align: middle;\n",
       "    }\n",
       "\n",
       "    .dataframe tbody tr th {\n",
       "        vertical-align: top;\n",
       "    }\n",
       "\n",
       "    .dataframe thead th {\n",
       "        text-align: right;\n",
       "    }\n",
       "</style>\n",
       "<table border=\"1\" class=\"dataframe\">\n",
       "  <thead>\n",
       "    <tr style=\"text-align: right;\">\n",
       "      <th></th>\n",
       "      <th>mean</th>\n",
       "      <th>std</th>\n",
       "      <th>min</th>\n",
       "      <th>max</th>\n",
       "    </tr>\n",
       "    <tr>\n",
       "      <th>health_state</th>\n",
       "      <th></th>\n",
       "      <th></th>\n",
       "      <th></th>\n",
       "      <th></th>\n",
       "    </tr>\n",
       "  </thead>\n",
       "  <tbody>\n",
       "    <tr>\n",
       "      <th>degrading</th>\n",
       "      <td>1599.60</td>\n",
       "      <td>16.62</td>\n",
       "      <td>1567.31</td>\n",
       "      <td>1626.72</td>\n",
       "    </tr>\n",
       "    <tr>\n",
       "      <th>healthy</th>\n",
       "      <td>1592.88</td>\n",
       "      <td>13.73</td>\n",
       "      <td>1567.41</td>\n",
       "      <td>1618.79</td>\n",
       "    </tr>\n",
       "  </tbody>\n",
       "</table>\n",
       "</div>"
      ],
      "text/plain": [
       "                 mean    std      min      max\n",
       "health_state                                  \n",
       "degrading     1599.60  16.62  1567.31  1626.72\n",
       "healthy       1592.88  13.73  1567.41  1618.79"
      ]
     },
     "metadata": {},
     "output_type": "display_data"
    },
    {
     "name": "stdout",
     "output_type": "stream",
     "text": [
      "\n",
      "🔧 Total Temperature T50 (°R):\n"
     ]
    },
    {
     "data": {
      "text/html": [
       "<div>\n",
       "<style scoped>\n",
       "    .dataframe tbody tr th:only-of-type {\n",
       "        vertical-align: middle;\n",
       "    }\n",
       "\n",
       "    .dataframe tbody tr th {\n",
       "        vertical-align: top;\n",
       "    }\n",
       "\n",
       "    .dataframe thead th {\n",
       "        text-align: right;\n",
       "    }\n",
       "</style>\n",
       "<table border=\"1\" class=\"dataframe\">\n",
       "  <thead>\n",
       "    <tr style=\"text-align: right;\">\n",
       "      <th></th>\n",
       "      <th>mean</th>\n",
       "      <th>std</th>\n",
       "      <th>min</th>\n",
       "      <th>max</th>\n",
       "    </tr>\n",
       "    <tr>\n",
       "      <th>health_state</th>\n",
       "      <th></th>\n",
       "      <th></th>\n",
       "      <th></th>\n",
       "      <th></th>\n",
       "    </tr>\n",
       "  </thead>\n",
       "  <tbody>\n",
       "    <tr>\n",
       "      <th>degrading</th>\n",
       "      <td>1434.82</td>\n",
       "      <td>21.19</td>\n",
       "      <td>1387.68</td>\n",
       "      <td>1457.46</td>\n",
       "    </tr>\n",
       "    <tr>\n",
       "      <th>healthy</th>\n",
       "      <td>1412.43</td>\n",
       "      <td>18.28</td>\n",
       "      <td>1366.29</td>\n",
       "      <td>1444.59</td>\n",
       "    </tr>\n",
       "  </tbody>\n",
       "</table>\n",
       "</div>"
      ],
      "text/plain": [
       "                 mean    std      min      max\n",
       "health_state                                  \n",
       "degrading     1434.82  21.19  1387.68  1457.46\n",
       "healthy       1412.43  18.28  1366.29  1444.59"
      ]
     },
     "metadata": {},
     "output_type": "display_data"
    },
    {
     "name": "stdout",
     "output_type": "stream",
     "text": [
      "\n",
      "🔧 Bypass Ratio:\n"
     ]
    },
    {
     "data": {
      "text/html": [
       "<div>\n",
       "<style scoped>\n",
       "    .dataframe tbody tr th:only-of-type {\n",
       "        vertical-align: middle;\n",
       "    }\n",
       "\n",
       "    .dataframe tbody tr th {\n",
       "        vertical-align: top;\n",
       "    }\n",
       "\n",
       "    .dataframe thead th {\n",
       "        text-align: right;\n",
       "    }\n",
       "</style>\n",
       "<table border=\"1\" class=\"dataframe\">\n",
       "  <thead>\n",
       "    <tr style=\"text-align: right;\">\n",
       "      <th></th>\n",
       "      <th>mean</th>\n",
       "      <th>std</th>\n",
       "      <th>min</th>\n",
       "      <th>max</th>\n",
       "    </tr>\n",
       "    <tr>\n",
       "      <th>health_state</th>\n",
       "      <th></th>\n",
       "      <th></th>\n",
       "      <th></th>\n",
       "      <th></th>\n",
       "    </tr>\n",
       "  </thead>\n",
       "  <tbody>\n",
       "    <tr>\n",
       "      <th>degrading</th>\n",
       "      <td>48.07</td>\n",
       "      <td>0.67</td>\n",
       "      <td>46.96</td>\n",
       "      <td>49.23</td>\n",
       "    </tr>\n",
       "    <tr>\n",
       "      <th>healthy</th>\n",
       "      <td>47.62</td>\n",
       "      <td>0.55</td>\n",
       "      <td>46.33</td>\n",
       "      <td>48.71</td>\n",
       "    </tr>\n",
       "  </tbody>\n",
       "</table>\n",
       "</div>"
      ],
      "text/plain": [
       "               mean   std    min    max\n",
       "health_state                           \n",
       "degrading     48.07  0.67  46.96  49.23\n",
       "healthy       47.62  0.55  46.33  48.71"
      ]
     },
     "metadata": {},
     "output_type": "display_data"
    },
    {
     "name": "stdout",
     "output_type": "stream",
     "text": [
      "\n",
      "🔗 Sensor Correlation Matrix\n"
     ]
    },
    {
     "data": {
      "image/png": "[encoded data removed]",
      "text/plain": [
       "<Figure size 1000x800 with 2 Axes>"
      ]
     },
     "metadata": {},
     "output_type": "display_data"
    },
    {
     "name": "stdout",
     "output_type": "stream",
     "text": [
      "\n",
      "🔍 Correlation Insights:\n",
      "• Temperature sensors (T24, T30, T50) are highly correlated\n",
      "• Bypass ratio shows inverse correlation with some temperature sensors\n",
      "• Strong correlations suggest redundancy in some measurements\n"
     ]
    }
   ],
   "source": [
    "# Analyze sensor statistics by health state\n",
    "health_stats = df.groupby('health_state')[key_sensors].agg(['mean', 'std', 'min', 'max']).round(2)\n",
    "\n",
    "print(\"📊 Sensor Statistics by Health State\")\n",
    "print(\"=\" * 60)\n",
    "\n",
    "for sensor in key_sensors:\n",
    "    print(f\"\\n🔧 {sensor_names[sensor]}:\")\n",
    "    display(health_stats[sensor])\n",
    "\n",
    "# Correlation analysis\n",
    "print(\"\\n🔗 Sensor Correlation Matrix\")\n",
    "correlation_matrix = df[key_sensors].corr()\n",
    "\n",
    "# Create heatmap\n",
    "plt.figure(figsize=(10, 8))\n",
    "sns.heatmap(correlation_matrix, \n",
    "            annot=True, \n",
    "            cmap='coolwarm', \n",
    "            center=0,\n",
    "            square=True,\n",
    "            xticklabels=[sensor_names[s] for s in key_sensors],\n",
    "            yticklabels=[sensor_names[s] for s in key_sensors])\n",
    "plt.title('Sensor Correlation Matrix')\n",
    "plt.tight_layout()\n",
    "plt.show()\n",
    "\n",
    "print(\"\\n🔍 Correlation Insights:\")\n",
    "print(\"• Temperature sensors (T24, T30, T50) are highly correlated\")\n",
    "print(\"• Bypass ratio shows inverse correlation with some temperature sensors\")\n",
    "print(\"• Strong correlations suggest redundancy in some measurements\")"
   ]
  },
  {
   "cell_type": "markdown",
   "id": "440ccc21",
   "metadata": {},
   "source": [
    "## 7. Alert Analysis"
   ]
  },
  {
   "cell_type": "code",
   "execution_count": 8,
   "id": "c6ff91f9",
   "metadata": {},
   "outputs": [
    {
     "data": {
      "application/vnd.plotly.v1+json": {
       "config": {
        "plotlyServerURL": "https://plot.ly"
       },
       "data": [
        {
         "alignmentgroup": "True",
         "hovertemplate": "health_state=%{x}<br>alert_count=%{y}<extra></extra>",
         "legendgroup": "healthy",
         "marker": {
          "color": "green"
         },
         "name": "healthy",
         "notched": false,
         "offsetgroup": "healthy",
         "orientation": "v",
         "showlegend": true,
         "type": "box",
         "x": [
          "healthy",
          "healthy",
          "healthy",
          "healthy",
          "healthy",
          "healthy",
          "healthy",
          "healthy",
          "healthy",
          "healthy",
          "healthy",
          "healthy",
          "healthy",
          "healthy",
          "healthy",
          "healthy",
          "healthy",
          "healthy",
          "healthy",
          "healthy",
          "healthy",
          "healthy",
          "healthy",
          "healthy",
          "healthy",
          "healthy",
          "healthy",
          "healthy",
          "healthy",
          "healthy",
          "healthy",
          "healthy",
          "healthy",
          "healthy",
          "healthy",
          "healthy",
          "healthy",
          "healthy",
          "healthy",
          "healthy",
          "healthy",
          "healthy",
          "healthy",
          "healthy",
          "healthy",
          "healthy",
          "healthy",
          "healthy",
          "healthy",
          "healthy",
          "healthy",
          "healthy",
          "healthy",
          "healthy",
          "healthy",
          "healthy",
          "healthy",
          "healthy",
          "healthy",
          "healthy",
          "healthy",
          "healthy",
          "healthy",
          "healthy",
          "healthy",
          "healthy",
          "healthy",
          "healthy",
          "healthy",
          "healthy",
          "healthy",
          "healthy",
          "healthy",
          "healthy",
          "healthy",
          "healthy",
          "healthy",
          "healthy",
          "healthy",
          "healthy",
          "healthy",
          "healthy",
          "healthy",
          "healthy",
          "healthy",
          "healthy",
          "healthy",
          "healthy",
          "healthy",
          "healthy",
          "healthy",
          "healthy",
          "healthy",
          "healthy",
          "healthy",
          "healthy",
          "healthy",
          "healthy",
          "healthy",
          "healthy",
          "healthy",
          "healthy",
          "healthy",
          "healthy",
          "healthy",
          "healthy",
          "healthy",
          "healthy",
          "healthy",
          "healthy",
          "healthy",
          "healthy",
          "healthy",
          "healthy",
          "healthy",
          "healthy",
          "healthy",
          "healthy",
          "healthy",
          "healthy",
          "healthy",
          "healthy",
          "healthy",
          "healthy",
          "healthy",
          "healthy",
          "healthy",
          "healthy",
          "healthy",
          "healthy",
          "healthy",
          "healthy",
          "healthy",
          "healthy",
          "healthy",
          "healthy",
          "healthy"
         ],
         "x0": " ",
         "xaxis": "x",
         "y": {
          "bdata": "AAAAAAAAAAAAAAAAAAAAAAAAAAAAAAAAAAAAAAAAAAAAAAAAAAAAAAAAAAAAAAAAAAAAAAAAAAAAAAAAAAAAAAAAAAAAAAAAAAAAAAAAAAAAAAAAAAAAAAAAAAAAAAAAAAAAAAAAAAAAAAAAAAAAAAAAAAAAAAAAAAAAAAAAAAAAAAAAAAAAAAA=",
          "dtype": "i1"
         },
         "y0": " ",
         "yaxis": "y"
        },
        {
         "alignmentgroup": "True",
         "hovertemplate": "health_state=%{x}<br>alert_count=%{y}<extra></extra>",
         "legendgroup": "degrading",
         "marker": {
          "color": "orange"
         },
         "name": "degrading",
         "notched": false,
         "offsetgroup": "degrading",
         "orientation": "v",
         "showlegend": true,
         "type": "box",
         "x": [
          "degrading",
          "degrading",
          "degrading",
          "degrading",
          "degrading",
          "degrading",
          "degrading",
          "degrading",
          "degrading",
          "degrading",
          "degrading",
          "degrading",
          "degrading"
         ],
         "x0": " ",
         "xaxis": "x",
         "y": {
          "bdata": "AQEBAAEBAQEBAQEBAQ==",
          "dtype": "i1"
         },
         "y0": " ",
         "yaxis": "y"
        }
       ],
       "layout": {
        "boxmode": "overlay",
        "legend": {
         "title": {
          "text": "health_state"
         },
         "tracegroupgap": 0
        },
        "template": {
         "data": {
          "bar": [
           {
            "error_x": {
             "color": "#2a3f5f"
            },
            "error_y": {
             "color": "#2a3f5f"
            },
            "marker": {
             "line": {
              "color": "#E5ECF6",
              "width": 0.5
             },
             "pattern": {
              "fillmode": "overlay",
              "size": 10,
              "solidity": 0.2
             }
            },
            "type": "bar"
           }
          ],
          "barpolar": [
           {
            "marker": {
             "line": {
              "color": "#E5ECF6",
              "width": 0.5
             },
             "pattern": {
              "fillmode": "overlay",
              "size": 10,
              "solidity": 0.2
             }
            },
            "type": "barpolar"
           }
          ],
          "carpet": [
           {
            "aaxis": {
             "endlinecolor": "#2a3f5f",
             "gridcolor": "white",
             "linecolor": "white",
             "minorgridcolor": "white",
             "startlinecolor": "#2a3f5f"
            },
            "baxis": {
             "endlinecolor": "#2a3f5f",
             "gridcolor": "white",
             "linecolor": "white",
             "minorgridcolor": "white",
             "startlinecolor": "#2a3f5f"
            },
            "type": "carpet"
           }
          ],
          "choropleth": [
           {
            "colorbar": {
             "outlinewidth": 0,
             "ticks": ""
            },
            "type": "choropleth"
           }
          ],
          "contour": [
           {
            "colorbar": {
             "outlinewidth": 0,
             "ticks": ""
            },
            "colorscale": [
             [
              0,
              "#0d0887"
             ],
             [
              0.1111111111111111,
              "#46039f"
             ],
             [
              0.2222222222222222,
              "#7201a8"
             ],
             [
              0.3333333333333333,
              "#9c179e"
             ],
             [
              0.4444444444444444,
              "#bd3786"
             ],
             [
              0.5555555555555556,
              "#d8576b"
             ],
             [
              0.6666666666666666,
              "#ed7953"
             ],
             [
              0.7777777777777778,
              "#fb9f3a"
             ],
             [
              0.8888888888888888,
              "#fdca26"
             ],
             [
              1,
              "#f0f921"
             ]
            ],
            "type": "contour"
           }
          ],
          "contourcarpet": [
           {
            "colorbar": {
             "outlinewidth": 0,
             "ticks": ""
            },
            "type": "contourcarpet"
           }
          ],
          "heatmap": [
           {
            "colorbar": {
             "outlinewidth": 0,
             "ticks": ""
            },
            "colorscale": [
             [
              0,
              "#0d0887"
             ],
             [
              0.1111111111111111,
              "#46039f"
             ],
             [
              0.2222222222222222,
              "#7201a8"
             ],
             [
              0.3333333333333333,
              "#9c179e"
             ],
             [
              0.4444444444444444,
              "#bd3786"
             ],
             [
              0.5555555555555556,
              "#d8576b"
             ],
             [
              0.6666666666666666,
              "#ed7953"
             ],
             [
              0.7777777777777778,
              "#fb9f3a"
             ],
             [
              0.8888888888888888,
              "#fdca26"
             ],
             [
              1,
              "#f0f921"
             ]
            ],
            "type": "heatmap"
           }
          ],
          "histogram": [
           {
            "marker": {
             "pattern": {
              "fillmode": "overlay",
              "size": 10,
              "solidity": 0.2
             }
            },
            "type": "histogram"
           }
          ],
          "histogram2d": [
           {
            "colorbar": {
             "outlinewidth": 0,
             "ticks": ""
            },
            "colorscale": [
             [
              0,
              "#0d0887"
             ],
             [
              0.1111111111111111,
              "#46039f"
             ],
             [
              0.2222222222222222,
              "#7201a8"
             ],
             [
              0.3333333333333333,
              "#9c179e"
             ],
             [
              0.4444444444444444,
              "#bd3786"
             ],
             [
              0.5555555555555556,
              "#d8576b"
             ],
             [
              0.6666666666666666,
              "#ed7953"
             ],
             [
              0.7777777777777778,
              "#fb9f3a"
             ],
             [
              0.8888888888888888,
              "#fdca26"
             ],
             [
              1,
              "#f0f921"
             ]
            ],
            "type": "histogram2d"
           }
          ],
          "histogram2dcontour": [
           {
            "colorbar": {
             "outlinewidth": 0,
             "ticks": ""
            },
            "colorscale": [
             [
              0,
              "#0d0887"
             ],
             [
              0.1111111111111111,
              "#46039f"
             ],
             [
              0.2222222222222222,
              "#7201a8"
             ],
             [
              0.3333333333333333,
              "#9c179e"
             ],
             [
              0.4444444444444444,
              "#bd3786"
             ],
             [
              0.5555555555555556,
              "#d8576b"
             ],
             [
              0.6666666666666666,
              "#ed7953"
             ],
             [
              0.7777777777777778,
              "#fb9f3a"
             ],
             [
              0.8888888888888888,
              "#fdca26"
             ],
             [
              1,
              "#f0f921"
             ]
            ],
            "type": "histogram2dcontour"
           }
          ],
          "mesh3d": [
           {
            "colorbar": {
             "outlinewidth": 0,
             "ticks": ""
            },
            "type": "mesh3d"
           }
          ],
          "parcoords": [
           {
            "line": {
             "colorbar": {
              "outlinewidth": 0,
              "ticks": ""
             }
            },
            "type": "parcoords"
           }
          ],
          "pie": [
           {
            "automargin": true,
            "type": "pie"
           }
          ],
          "scatter": [
           {
            "fillpattern": {
             "fillmode": "overlay",
             "size": 10,
             "solidity": 0.2
            },
            "type": "scatter"
           }
          ],
          "scatter3d": [
           {
            "line": {
             "colorbar": {
              "outlinewidth": 0,
              "ticks": ""
             }
            },
            "marker": {
             "colorbar": {
              "outlinewidth": 0,
              "ticks": ""
             }
            },
            "type": "scatter3d"
           }
          ],
          "scattercarpet": [
           {
            "marker": {
             "colorbar": {
              "outlinewidth": 0,
              "ticks": ""
             }
            },
            "type": "scattercarpet"
           }
          ],
          "scattergeo": [
           {
            "marker": {
             "colorbar": {
              "outlinewidth": 0,
              "ticks": ""
             }
            },
            "type": "scattergeo"
           }
          ],
          "scattergl": [
           {
            "marker": {
             "colorbar": {
              "outlinewidth": 0,
              "ticks": ""
             }
            },
            "type": "scattergl"
           }
          ],
          "scattermap": [
           {
            "marker": {
             "colorbar": {
              "outlinewidth": 0,
              "ticks": ""
             }
            },
            "type": "scattermap"
           }
          ],
          "scattermapbox": [
           {
            "marker": {
             "colorbar": {
              "outlinewidth": 0,
              "ticks": ""
             }
            },
            "type": "scattermapbox"
           }
          ],
          "scatterpolar": [
           {
            "marker": {
             "colorbar": {
              "outlinewidth": 0,
              "ticks": ""
             }
            },
            "type": "scatterpolar"
           }
          ],
          "scatterpolargl": [
           {
            "marker": {
             "colorbar": {
              "outlinewidth": 0,
              "ticks": ""
             }
            },
            "type": "scatterpolargl"
           }
          ],
          "scatterternary": [
           {
            "marker": {
             "colorbar": {
              "outlinewidth": 0,
              "ticks": ""
             }
            },
            "type": "scatterternary"
           }
          ],
          "surface": [
           {
            "colorbar": {
             "outlinewidth": 0,
             "ticks": ""
            },
            "colorscale": [
             [
              0,
              "#0d0887"
             ],
             [
              0.1111111111111111,
              "#46039f"
             ],
             [
              0.2222222222222222,
              "#7201a8"
             ],
             [
              0.3333333333333333,
              "#9c179e"
             ],
             [
              0.4444444444444444,
              "#bd3786"
             ],
             [
              0.5555555555555556,
              "#d8576b"
             ],
             [
              0.6666666666666666,
              "#ed7953"
             ],
             [
              0.7777777777777778,
              "#fb9f3a"
             ],
             [
              0.8888888888888888,
              "#fdca26"
             ],
             [
              1,
              "#f0f921"
             ]
            ],
            "type": "surface"
           }
          ],
          "table": [
           {
            "cells": {
             "fill": {
              "color": "#EBF0F8"
             },
             "line": {
              "color": "white"
             }
            },
            "header": {
             "fill": {
              "color": "#C8D4E3"
             },
             "line": {
              "color": "white"
             }
            },
            "type": "table"
           }
          ]
         },
         "layout": {
          "annotationdefaults": {
           "arrowcolor": "#2a3f5f",
           "arrowhead": 0,
           "arrowwidth": 1
          },
          "autotypenumbers": "strict",
          "coloraxis": {
           "colorbar": {
            "outlinewidth": 0,
            "ticks": ""
           }
          },
          "colorscale": {
           "diverging": [
            [
             0,
             "#8e0152"
            ],
            [
             0.1,
             "#c51b7d"
            ],
            [
             0.2,
             "#de77ae"
            ],
            [
             0.3,
             "#f1b6da"
            ],
            [
             0.4,
             "#fde0ef"
            ],
            [
             0.5,
             "#f7f7f7"
            ],
            [
             0.6,
             "#e6f5d0"
            ],
            [
             0.7,
             "#b8e186"
            ],
            [
             0.8,
             "#7fbc41"
            ],
            [
             0.9,
             "#4d9221"
            ],
            [
             1,
             "#276419"
            ]
           ],
           "sequential": [
            [
             0,
             "#0d0887"
            ],
            [
             0.1111111111111111,
             "#46039f"
            ],
            [
             0.2222222222222222,
             "#7201a8"
            ],
            [
             0.3333333333333333,
             "#9c179e"
            ],
            [
             0.4444444444444444,
             "#bd3786"
            ],
            [
             0.5555555555555556,
             "#d8576b"
            ],
            [
             0.6666666666666666,
             "#ed7953"
            ],
            [
             0.7777777777777778,
             "#fb9f3a"
            ],
            [
             0.8888888888888888,
             "#fdca26"
            ],
            [
             1,
             "#f0f921"
            ]
           ],
           "sequentialminus": [
            [
             0,
             "#0d0887"
            ],
            [
             0.1111111111111111,
             "#46039f"
            ],
            [
             0.2222222222222222,
             "#7201a8"
            ],
            [
             0.3333333333333333,
             "#9c179e"
            ],
            [
             0.4444444444444444,
             "#bd3786"
            ],
            [
             0.5555555555555556,
             "#d8576b"
            ],
            [
             0.6666666666666666,
             "#ed7953"
            ],
            [
             0.7777777777777778,
             "#fb9f3a"
            ],
            [
             0.8888888888888888,
             "#fdca26"
            ],
            [
             1,
             "#f0f921"
            ]
           ]
          },
          "colorway": [
           "#636efa",
           "#EF553B",
           "#00cc96",
           "#ab63fa",
           "#FFA15A",
           "#19d3f3",
           "#FF6692",
           "#B6E880",
           "#FF97FF",
           "#FECB52"
          ],
          "font": {
           "color": "#2a3f5f"
          },
          "geo": {
           "bgcolor": "white",
           "lakecolor": "white",
           "landcolor": "#E5ECF6",
           "showlakes": true,
           "showland": true,
           "subunitcolor": "white"
          },
          "hoverlabel": {
           "align": "left"
          },
          "hovermode": "closest",
          "mapbox": {
           "style": "light"
          },
          "paper_bgcolor": "white",
          "plot_bgcolor": "#E5ECF6",
          "polar": {
           "angularaxis": {
            "gridcolor": "white",
            "linecolor": "white",
            "ticks": ""
           },
           "bgcolor": "#E5ECF6",
           "radialaxis": {
            "gridcolor": "white",
            "linecolor": "white",
            "ticks": ""
           }
          },
          "scene": {
           "xaxis": {
            "backgroundcolor": "#E5ECF6",
            "gridcolor": "white",
            "gridwidth": 2,
            "linecolor": "white",
            "showbackground": true,
            "ticks": "",
            "zerolinecolor": "white"
           },
           "yaxis": {
            "backgroundcolor": "#E5ECF6",
            "gridcolor": "white",
            "gridwidth": 2,
            "linecolor": "white",
            "showbackground": true,
            "ticks": "",
            "zerolinecolor": "white"
           },
           "zaxis": {
            "backgroundcolor": "#E5ECF6",
            "gridcolor": "white",
            "gridwidth": 2,
            "linecolor": "white",
            "showbackground": true,
            "ticks": "",
            "zerolinecolor": "white"
           }
          },
          "shapedefaults": {
           "line": {
            "color": "#2a3f5f"
           }
          },
          "ternary": {
           "aaxis": {
            "gridcolor": "white",
            "linecolor": "white",
            "ticks": ""
           },
           "baxis": {
            "gridcolor": "white",
            "linecolor": "white",
            "ticks": ""
           },
           "bgcolor": "#E5ECF6",
           "caxis": {
            "gridcolor": "white",
            "linecolor": "white",
            "ticks": ""
           }
          },
          "title": {
           "x": 0.05
          },
          "xaxis": {
           "automargin": true,
           "gridcolor": "white",
           "linecolor": "white",
           "ticks": "",
           "title": {
            "standoff": 15
           },
           "zerolinecolor": "white",
           "zerolinewidth": 2
          },
          "yaxis": {
           "automargin": true,
           "gridcolor": "white",
           "linecolor": "white",
           "ticks": "",
           "title": {
            "standoff": 15
           },
           "zerolinecolor": "white",
           "zerolinewidth": 2
          }
         }
        },
        "title": {
         "text": "Alert Distribution by Engine Health State"
        },
        "xaxis": {
         "anchor": "y",
         "categoryarray": [
          "healthy",
          "degrading"
         ],
         "categoryorder": "array",
         "domain": [
          0,
          1
         ],
         "title": {
          "text": "health_state"
         }
        },
        "yaxis": {
         "anchor": "x",
         "domain": [
          0,
          1
         ],
         "title": {
          "text": "alert_count"
         }
        }
       }
      }
     },
     "metadata": {},
     "output_type": "display_data"
    },
    {
     "data": {
      "application/vnd.plotly.v1+json": {
       "config": {
        "plotlyServerURL": "https://plot.ly"
       },
       "data": [
        {
         "hovertemplate": "health_state=degrading<br>cycle=%{x}<br>alert_count=%{y}<extra></extra>",
         "legendgroup": "degrading",
         "line": {
          "color": "orange",
          "dash": "solid"
         },
         "marker": {
          "symbol": "circle"
         },
         "mode": "lines",
         "name": "degrading",
         "orientation": "v",
         "showlegend": true,
         "type": "scatter",
         "x": {
          "bdata": "ARIUFRYZICIqKy8wMg==",
          "dtype": "i1"
         },
         "xaxis": "x",
         "y": {
          "bdata": "AQEBAAEBAQEBAQEBAQ==",
          "dtype": "i1"
         },
         "yaxis": "y"
        },
        {
         "hovertemplate": "health_state=healthy<br>cycle=%{x}<br>alert_count=%{y}<extra></extra>",
         "legendgroup": "healthy",
         "line": {
          "color": "green",
          "dash": "solid"
         },
         "marker": {
          "symbol": "circle"
         },
         "mode": "lines",
         "name": "healthy",
         "orientation": "v",
         "showlegend": true,
         "type": "scatter",
         "x": {
          "bdata": "AQIDBAUGBwgJCgsMDQ4PEBESExQVFhcYGRobHB0eHyAhIiMkJSYnKCkqKywtLi8wMTI=",
          "dtype": "i1"
         },
         "xaxis": "x",
         "y": {
          "bdata": "AAAAAAAAAAAAAAAAAAAAAAAAAAAAAAAAAAAAAAAAAAAAAAAAAAAAAAAAAAAAAAAAAAA=",
          "dtype": "i1"
         },
         "yaxis": "y"
        }
       ],
       "layout": {
        "legend": {
         "title": {
          "text": "health_state"
         },
         "tracegroupgap": 0
        },
        "template": {
         "data": {
          "bar": [
           {
            "error_x": {
             "color": "#2a3f5f"
            },
            "error_y": {
             "color": "#2a3f5f"
            },
            "marker": {
             "line": {
              "color": "#E5ECF6",
              "width": 0.5
             },
             "pattern": {
              "fillmode": "overlay",
              "size": 10,
              "solidity": 0.2
             }
            },
            "type": "bar"
           }
          ],
          "barpolar": [
           {
            "marker": {
             "line": {
              "color": "#E5ECF6",
              "width": 0.5
             },
             "pattern": {
              "fillmode": "overlay",
              "size": 10,
              "solidity": 0.2
             }
            },
            "type": "barpolar"
           }
          ],
          "carpet": [
           {
            "aaxis": {
             "endlinecolor": "#2a3f5f",
             "gridcolor": "white",
             "linecolor": "white",
             "minorgridcolor": "white",
             "startlinecolor": "#2a3f5f"
            },
            "baxis": {
             "endlinecolor": "#2a3f5f",
             "gridcolor": "white",
             "linecolor": "white",
             "minorgridcolor": "white",
             "startlinecolor": "#2a3f5f"
            },
            "type": "carpet"
           }
          ],
          "choropleth": [
           {
            "colorbar": {
             "outlinewidth": 0,
             "ticks": ""
            },
            "type": "choropleth"
           }
          ],
          "contour": [
           {
            "colorbar": {
             "outlinewidth": 0,
             "ticks": ""
            },
            "colorscale": [
             [
              0,
              "#0d0887"
             ],
             [
              0.1111111111111111,
              "#46039f"
             ],
             [
              0.2222222222222222,
              "#7201a8"
             ],
             [
              0.3333333333333333,
              "#9c179e"
             ],
             [
              0.4444444444444444,
              "#bd3786"
             ],
             [
              0.5555555555555556,
              "#d8576b"
             ],
             [
              0.6666666666666666,
              "#ed7953"
             ],
             [
              0.7777777777777778,
              "#fb9f3a"
             ],
             [
              0.8888888888888888,
              "#fdca26"
             ],
             [
              1,
              "#f0f921"
             ]
            ],
            "type": "contour"
           }
          ],
          "contourcarpet": [
           {
            "colorbar": {
             "outlinewidth": 0,
             "ticks": ""
            },
            "type": "contourcarpet"
           }
          ],
          "heatmap": [
           {
            "colorbar": {
             "outlinewidth": 0,
             "ticks": ""
            },
            "colorscale": [
             [
              0,
              "#0d0887"
             ],
             [
              0.1111111111111111,
              "#46039f"
             ],
             [
              0.2222222222222222,
              "#7201a8"
             ],
             [
              0.3333333333333333,
              "#9c179e"
             ],
             [
              0.4444444444444444,
              "#bd3786"
             ],
             [
              0.5555555555555556,
              "#d8576b"
             ],
             [
              0.6666666666666666,
              "#ed7953"
             ],
             [
              0.7777777777777778,
              "#fb9f3a"
             ],
             [
              0.8888888888888888,
              "#fdca26"
             ],
             [
              1,
              "#f0f921"
             ]
            ],
            "type": "heatmap"
           }
          ],
          "histogram": [
           {
            "marker": {
             "pattern": {
              "fillmode": "overlay",
              "size": 10,
              "solidity": 0.2
             }
            },
            "type": "histogram"
           }
          ],
          "histogram2d": [
           {
            "colorbar": {
             "outlinewidth": 0,
             "ticks": ""
            },
            "colorscale": [
             [
              0,
              "#0d0887"
             ],
             [
              0.1111111111111111,
              "#46039f"
             ],
             [
              0.2222222222222222,
              "#7201a8"
             ],
             [
              0.3333333333333333,
              "#9c179e"
             ],
             [
              0.4444444444444444,
              "#bd3786"
             ],
             [
              0.5555555555555556,
              "#d8576b"
             ],
             [
              0.6666666666666666,
              "#ed7953"
             ],
             [
              0.7777777777777778,
              "#fb9f3a"
             ],
             [
              0.8888888888888888,
              "#fdca26"
             ],
             [
              1,
              "#f0f921"
             ]
            ],
            "type": "histogram2d"
           }
          ],
          "histogram2dcontour": [
           {
            "colorbar": {
             "outlinewidth": 0,
             "ticks": ""
            },
            "colorscale": [
             [
              0,
              "#0d0887"
             ],
             [
              0.1111111111111111,
              "#46039f"
             ],
             [
              0.2222222222222222,
              "#7201a8"
             ],
             [
              0.3333333333333333,
              "#9c179e"
             ],
             [
              0.4444444444444444,
              "#bd3786"
             ],
             [
              0.5555555555555556,
              "#d8576b"
             ],
             [
              0.6666666666666666,
              "#ed7953"
             ],
             [
              0.7777777777777778,
              "#fb9f3a"
             ],
             [
              0.8888888888888888,
              "#fdca26"
             ],
             [
              1,
              "#f0f921"
             ]
            ],
            "type": "histogram2dcontour"
           }
          ],
          "mesh3d": [
           {
            "colorbar": {
             "outlinewidth": 0,
             "ticks": ""
            },
            "type": "mesh3d"
           }
          ],
          "parcoords": [
           {
            "line": {
             "colorbar": {
              "outlinewidth": 0,
              "ticks": ""
             }
            },
            "type": "parcoords"
           }
          ],
          "pie": [
           {
            "automargin": true,
            "type": "pie"
           }
          ],
          "scatter": [
           {
            "fillpattern": {
             "fillmode": "overlay",
             "size": 10,
             "solidity": 0.2
            },
            "type": "scatter"
           }
          ],
          "scatter3d": [
           {
            "line": {
             "colorbar": {
              "outlinewidth": 0,
              "ticks": ""
             }
            },
            "marker": {
             "colorbar": {
              "outlinewidth": 0,
              "ticks": ""
             }
            },
            "type": "scatter3d"
           }
          ],
          "scattercarpet": [
           {
            "marker": {
             "colorbar": {
              "outlinewidth": 0,
              "ticks": ""
             }
            },
            "type": "scattercarpet"
           }
          ],
          "scattergeo": [
           {
            "marker": {
             "colorbar": {
              "outlinewidth": 0,
              "ticks": ""
             }
            },
            "type": "scattergeo"
           }
          ],
          "scattergl": [
           {
            "marker": {
             "colorbar": {
              "outlinewidth": 0,
              "ticks": ""
             }
            },
            "type": "scattergl"
           }
          ],
          "scattermap": [
           {
            "marker": {
             "colorbar": {
              "outlinewidth": 0,
              "ticks": ""
             }
            },
            "type": "scattermap"
           }
          ],
          "scattermapbox": [
           {
            "marker": {
             "colorbar": {
              "outlinewidth": 0,
              "ticks": ""
             }
            },
            "type": "scattermapbox"
           }
          ],
          "scatterpolar": [
           {
            "marker": {
             "colorbar": {
              "outlinewidth": 0,
              "ticks": ""
             }
            },
            "type": "scatterpolar"
           }
          ],
          "scatterpolargl": [
           {
            "marker": {
             "colorbar": {
              "outlinewidth": 0,
              "ticks": ""
             }
            },
            "type": "scatterpolargl"
           }
          ],
          "scatterternary": [
           {
            "marker": {
             "colorbar": {
              "outlinewidth": 0,
              "ticks": ""
             }
            },
            "type": "scatterternary"
           }
          ],
          "surface": [
           {
            "colorbar": {
             "outlinewidth": 0,
             "ticks": ""
            },
            "colorscale": [
             [
              0,
              "#0d0887"
             ],
             [
              0.1111111111111111,
              "#46039f"
             ],
             [
              0.2222222222222222,
              "#7201a8"
             ],
             [
              0.3333333333333333,
              "#9c179e"
             ],
             [
              0.4444444444444444,
              "#bd3786"
             ],
             [
              0.5555555555555556,
              "#d8576b"
             ],
             [
              0.6666666666666666,
              "#ed7953"
             ],
             [
              0.7777777777777778,
              "#fb9f3a"
             ],
             [
              0.8888888888888888,
              "#fdca26"
             ],
             [
              1,
              "#f0f921"
             ]
            ],
            "type": "surface"
           }
          ],
          "table": [
           {
            "cells": {
             "fill": {
              "color": "#EBF0F8"
             },
             "line": {
              "color": "white"
             }
            },
            "header": {
             "fill": {
              "color": "#C8D4E3"
             },
             "line": {
              "color": "white"
             }
            },
            "type": "table"
           }
          ]
         },
         "layout": {
          "annotationdefaults": {
           "arrowcolor": "#2a3f5f",
           "arrowhead": 0,
           "arrowwidth": 1
          },
          "autotypenumbers": "strict",
          "coloraxis": {
           "colorbar": {
            "outlinewidth": 0,
            "ticks": ""
           }
          },
          "colorscale": {
           "diverging": [
            [
             0,
             "#8e0152"
            ],
            [
             0.1,
             "#c51b7d"
            ],
            [
             0.2,
             "#de77ae"
            ],
            [
             0.3,
             "#f1b6da"
            ],
            [
             0.4,
             "#fde0ef"
            ],
            [
             0.5,
             "#f7f7f7"
            ],
            [
             0.6,
             "#e6f5d0"
            ],
            [
             0.7,
             "#b8e186"
            ],
            [
             0.8,
             "#7fbc41"
            ],
            [
             0.9,
             "#4d9221"
            ],
            [
             1,
             "#276419"
            ]
           ],
           "sequential": [
            [
             0,
             "#0d0887"
            ],
            [
             0.1111111111111111,
             "#46039f"
            ],
            [
             0.2222222222222222,
             "#7201a8"
            ],
            [
             0.3333333333333333,
             "#9c179e"
            ],
            [
             0.4444444444444444,
             "#bd3786"
            ],
            [
             0.5555555555555556,
             "#d8576b"
            ],
            [
             0.6666666666666666,
             "#ed7953"
            ],
            [
             0.7777777777777778,
             "#fb9f3a"
            ],
            [
             0.8888888888888888,
             "#fdca26"
            ],
            [
             1,
             "#f0f921"
            ]
           ],
           "sequentialminus": [
            [
             0,
             "#0d0887"
            ],
            [
             0.1111111111111111,
             "#46039f"
            ],
            [
             0.2222222222222222,
             "#7201a8"
            ],
            [
             0.3333333333333333,
             "#9c179e"
            ],
            [
             0.4444444444444444,
             "#bd3786"
            ],
            [
             0.5555555555555556,
             "#d8576b"
            ],
            [
             0.6666666666666666,
             "#ed7953"
            ],
            [
             0.7777777777777778,
             "#fb9f3a"
            ],
            [
             0.8888888888888888,
             "#fdca26"
            ],
            [
             1,
             "#f0f921"
            ]
           ]
          },
          "colorway": [
           "#636efa",
           "#EF553B",
           "#00cc96",
           "#ab63fa",
           "#FFA15A",
           "#19d3f3",
           "#FF6692",
           "#B6E880",
           "#FF97FF",
           "#FECB52"
          ],
          "font": {
           "color": "#2a3f5f"
          },
          "geo": {
           "bgcolor": "white",
           "lakecolor": "white",
           "landcolor": "#E5ECF6",
           "showlakes": true,
           "showland": true,
           "subunitcolor": "white"
          },
          "hoverlabel": {
           "align": "left"
          },
          "hovermode": "closest",
          "mapbox": {
           "style": "light"
          },
          "paper_bgcolor": "white",
          "plot_bgcolor": "#E5ECF6",
          "polar": {
           "angularaxis": {
            "gridcolor": "white",
            "linecolor": "white",
            "ticks": ""
           },
           "bgcolor": "#E5ECF6",
           "radialaxis": {
            "gridcolor": "white",
            "linecolor": "white",
            "ticks": ""
           }
          },
          "scene": {
           "xaxis": {
            "backgroundcolor": "#E5ECF6",
            "gridcolor": "white",
            "gridwidth": 2,
            "linecolor": "white",
            "showbackground": true,
            "ticks": "",
            "zerolinecolor": "white"
           },
           "yaxis": {
            "backgroundcolor": "#E5ECF6",
            "gridcolor": "white",
            "gridwidth": 2,
            "linecolor": "white",
            "showbackground": true,
            "ticks": "",
            "zerolinecolor": "white"
           },
           "zaxis": {
            "backgroundcolor": "#E5ECF6",
            "gridcolor": "white",
            "gridwidth": 2,
            "linecolor": "white",
            "showbackground": true,
            "ticks": "",
            "zerolinecolor": "white"
           }
          },
          "shapedefaults": {
           "line": {
            "color": "#2a3f5f"
           }
          },
          "ternary": {
           "aaxis": {
            "gridcolor": "white",
            "linecolor": "white",
            "ticks": ""
           },
           "baxis": {
            "gridcolor": "white",
            "linecolor": "white",
            "ticks": ""
           },
           "bgcolor": "#E5ECF6",
           "caxis": {
            "gridcolor": "white",
            "linecolor": "white",
            "ticks": ""
           }
          },
          "title": {
           "x": 0.05
          },
          "xaxis": {
           "automargin": true,
           "gridcolor": "white",
           "linecolor": "white",
           "ticks": "",
           "title": {
            "standoff": 15
           },
           "zerolinecolor": "white",
           "zerolinewidth": 2
          },
          "yaxis": {
           "automargin": true,
           "gridcolor": "white",
           "linecolor": "white",
           "ticks": "",
           "title": {
            "standoff": 15
           },
           "zerolinecolor": "white",
           "zerolinewidth": 2
          }
         }
        },
        "title": {
         "text": "Alert Count Evolution Over Engine Cycles"
        },
        "xaxis": {
         "anchor": "y",
         "domain": [
          0,
          1
         ],
         "title": {
          "text": "cycle"
         }
        },
        "yaxis": {
         "anchor": "x",
         "domain": [
          0,
          1
         ],
         "title": {
          "text": "alert_count"
         }
        }
       }
      }
     },
     "metadata": {},
     "output_type": "display_data"
    },
    {
     "name": "stdout",
     "output_type": "stream",
     "text": [
      "🚨 Alert Analysis Summary:\n"
     ]
    },
    {
     "data": {
      "text/html": [
       "<div>\n",
       "<style scoped>\n",
       "    .dataframe tbody tr th:only-of-type {\n",
       "        vertical-align: middle;\n",
       "    }\n",
       "\n",
       "    .dataframe tbody tr th {\n",
       "        vertical-align: top;\n",
       "    }\n",
       "\n",
       "    .dataframe thead th {\n",
       "        text-align: right;\n",
       "    }\n",
       "</style>\n",
       "<table border=\"1\" class=\"dataframe\">\n",
       "  <thead>\n",
       "    <tr style=\"text-align: right;\">\n",
       "      <th></th>\n",
       "      <th>mean</th>\n",
       "      <th>max</th>\n",
       "      <th>sum</th>\n",
       "    </tr>\n",
       "    <tr>\n",
       "      <th>health_state</th>\n",
       "      <th></th>\n",
       "      <th></th>\n",
       "      <th></th>\n",
       "    </tr>\n",
       "  </thead>\n",
       "  <tbody>\n",
       "    <tr>\n",
       "      <th>degrading</th>\n",
       "      <td>0.92</td>\n",
       "      <td>1</td>\n",
       "      <td>12</td>\n",
       "    </tr>\n",
       "    <tr>\n",
       "      <th>healthy</th>\n",
       "      <td>0.00</td>\n",
       "      <td>0</td>\n",
       "      <td>0</td>\n",
       "    </tr>\n",
       "  </tbody>\n",
       "</table>\n",
       "</div>"
      ],
      "text/plain": [
       "              mean  max  sum\n",
       "health_state                \n",
       "degrading     0.92    1   12\n",
       "healthy       0.00    0    0"
      ]
     },
     "metadata": {},
     "output_type": "display_data"
    },
    {
     "name": "stdout",
     "output_type": "stream",
     "text": [
      "\n",
      "💡 Key Findings:\n",
      "• Critical engines generate significantly more alerts\n",
      "• Alert frequency increases with engine degradation\n",
      "• Healthy engines rarely trigger alerts\n",
      "• Alert patterns can be used for early warning systems\n"
     ]
    }
   ],
   "source": [
    "# Analyze alert patterns\n",
    "alert_analysis = df.groupby(['health_state', 'cycle'])['alert_count'].sum().reset_index()\n",
    "\n",
    "# Visualize alert frequency by health state\n",
    "fig = px.box(df, x='health_state', y='alert_count', \n",
    "             title='Alert Distribution by Engine Health State',\n",
    "             color='health_state',\n",
    "             color_discrete_map=colors)\n",
    "fig.show()\n",
    "\n",
    "# Alert frequency over cycles\n",
    "fig2 = px.line(alert_analysis, x='cycle', y='alert_count', \n",
    "               color='health_state',\n",
    "               title='Alert Count Evolution Over Engine Cycles',\n",
    "               color_discrete_map=colors)\n",
    "fig2.show()\n",
    "\n",
    "print(\"🚨 Alert Analysis Summary:\")\n",
    "alert_summary = df.groupby('health_state')['alert_count'].agg(['mean', 'max', 'sum']).round(2)\n",
    "display(alert_summary)\n",
    "\n",
    "print(\"\\n💡 Key Findings:\")\n",
    "print(\"• Critical engines generate significantly more alerts\")\n",
    "print(\"• Alert frequency increases with engine degradation\")\n",
    "print(\"• Healthy engines rarely trigger alerts\")\n",
    "print(\"• Alert patterns can be used for early warning systems\")"
   ]
  },
  {
   "cell_type": "markdown",
   "id": "990184b0",
   "metadata": {},
   "source": [
    "## 8. Remaining Useful Life (RUL) Analysis"
   ]
  },
  {
   "cell_type": "code",
   "execution_count": 9,
   "id": "d30a4db6",
   "metadata": {},
   "outputs": [
    {
     "data": {
      "application/vnd.plotly.v1+json": {
       "config": {
        "plotlyServerURL": "https://plot.ly"
       },
       "data": [
        {
         "hovertemplate": "health_state=healthy<br>cycle=%{x}<br>remaining_useful_life=%{y}<extra></extra>",
         "legendgroup": "healthy",
         "line": {
          "color": "green",
          "dash": "solid"
         },
         "marker": {
          "symbol": "circle"
         },
         "mode": "lines",
         "name": "healthy",
         "orientation": "v",
         "showlegend": true,
         "type": "scatter",
         "x": {
          "bdata": "AQECAgIDAwMEBAQFBQUGBgYHBwcICAgJCQkKCgoLCwsMDAwNDQ0ODg4PDw8QEBARERESEhMTExQUFRUWFhcXFxgYGBkZGhoaGxsbHBwcHR0dHh4eHx8fICAhISEiIiMjIyQkJCUlJSYmJicnJygoKCkpKSoqKyssLCwtLS0uLi4vLzAwMTExMjI=",
          "dtype": "i1"
         },
         "xaxis": "x",
         "y": {
          "bdata": "zQBpAcwACAFoAcsABwFnAcoABgFmAckABQFlAcgABAFkAccAAwFjAcYAAgFiAcUAAQFhAcQAAAFgAcMA/wBfAcIA/gBeAcEA/QBdAcAA/ABcAb8A+wBbAb4A+gBaAb0A+QBZAfgAWAG7APcAVwG6AFYB9QBVAbgAVAG3APMAUwG2APIAUgG1APEAtADwAFABswDvAE8BsgDuAE4BsQDtAE0BsADsAEwBrwDrAEsBrgDqAK0A6QBJAawASAGrAOcARwGqAOYARgGpAOUARQGoAOQARAGnAOMAQwGmAOIAQgGlAOEAQQHgAEAB3wA/AaIA3gA+AaEA3QA9AaAA3AA8AZ8A2wCeANoAnQDZADkB2AA4AQ==",
          "dtype": "i2"
         },
         "yaxis": "y"
        },
        {
         "hovertemplate": "health_state=degrading<br>cycle=%{x}<br>remaining_useful_life=%{y}<extra></extra>",
         "legendgroup": "degrading",
         "line": {
          "color": "orange",
          "dash": "solid"
         },
         "marker": {
          "symbol": "circle"
         },
         "mode": "lines",
         "name": "degrading",
         "orientation": "v",
         "showlegend": true,
         "type": "scatter",
         "x": {
          "bdata": "ARIUFRYZICIqKy8wMg==",
          "dtype": "i1"
         },
         "xaxis": "x",
         "y": {
          "bdata": "CQG8APYAuQD0AFEBSgHoAKQAowA7AToBnAA=",
          "dtype": "i2"
         },
         "yaxis": "y"
        }
       ],
       "layout": {
        "legend": {
         "title": {
          "text": "health_state"
         },
         "tracegroupgap": 0
        },
        "template": {
         "data": {
          "bar": [
           {
            "error_x": {
             "color": "#2a3f5f"
            },
            "error_y": {
             "color": "#2a3f5f"
            },
            "marker": {
             "line": {
              "color": "#E5ECF6",
              "width": 0.5
             },
             "pattern": {
              "fillmode": "overlay",
              "size": 10,
              "solidity": 0.2
             }
            },
            "type": "bar"
           }
          ],
          "barpolar": [
           {
            "marker": {
             "line": {
              "color": "#E5ECF6",
              "width": 0.5
             },
             "pattern": {
              "fillmode": "overlay",
              "size": 10,
              "solidity": 0.2
             }
            },
            "type": "barpolar"
           }
          ],
          "carpet": [
           {
            "aaxis": {
             "endlinecolor": "#2a3f5f",
             "gridcolor": "white",
             "linecolor": "white",
             "minorgridcolor": "white",
             "startlinecolor": "#2a3f5f"
            },
            "baxis": {
             "endlinecolor": "#2a3f5f",
             "gridcolor": "white",
             "linecolor": "white",
             "minorgridcolor": "white",
             "startlinecolor": "#2a3f5f"
            },
            "type": "carpet"
           }
          ],
          "choropleth": [
           {
            "colorbar": {
             "outlinewidth": 0,
             "ticks": ""
            },
            "type": "choropleth"
           }
          ],
          "contour": [
           {
            "colorbar": {
             "outlinewidth": 0,
             "ticks": ""
            },
            "colorscale": [
             [
              0,
              "#0d0887"
             ],
             [
              0.1111111111111111,
              "#46039f"
             ],
             [
              0.2222222222222222,
              "#7201a8"
             ],
             [
              0.3333333333333333,
              "#9c179e"
             ],
             [
              0.4444444444444444,
              "#bd3786"
             ],
             [
              0.5555555555555556,
              "#d8576b"
             ],
             [
              0.6666666666666666,
              "#ed7953"
             ],
             [
              0.7777777777777778,
              "#fb9f3a"
             ],
             [
              0.8888888888888888,
              "#fdca26"
             ],
             [
              1,
              "#f0f921"
             ]
            ],
            "type": "contour"
           }
          ],
          "contourcarpet": [
           {
            "colorbar": {
             "outlinewidth": 0,
             "ticks": ""
            },
            "type": "contourcarpet"
           }
          ],
          "heatmap": [
           {
            "colorbar": {
             "outlinewidth": 0,
             "ticks": ""
            },
            "colorscale": [
             [
              0,
              "#0d0887"
             ],
             [
              0.1111111111111111,
              "#46039f"
             ],
             [
              0.2222222222222222,
              "#7201a8"
             ],
             [
              0.3333333333333333,
              "#9c179e"
             ],
             [
              0.4444444444444444,
              "#bd3786"
             ],
             [
              0.5555555555555556,
              "#d8576b"
             ],
             [
              0.6666666666666666,
              "#ed7953"
             ],
             [
              0.7777777777777778,
              "#fb9f3a"
             ],
             [
              0.8888888888888888,
              "#fdca26"
             ],
             [
              1,
              "#f0f921"
             ]
            ],
            "type": "heatmap"
           }
          ],
          "histogram": [
           {
            "marker": {
             "pattern": {
              "fillmode": "overlay",
              "size": 10,
              "solidity": 0.2
             }
            },
            "type": "histogram"
           }
          ],
          "histogram2d": [
           {
            "colorbar": {
             "outlinewidth": 0,
             "ticks": ""
            },
            "colorscale": [
             [
              0,
              "#0d0887"
             ],
             [
              0.1111111111111111,
              "#46039f"
             ],
             [
              0.2222222222222222,
              "#7201a8"
             ],
             [
              0.3333333333333333,
              "#9c179e"
             ],
             [
              0.4444444444444444,
              "#bd3786"
             ],
             [
              0.5555555555555556,
              "#d8576b"
             ],
             [
              0.6666666666666666,
              "#ed7953"
             ],
             [
              0.7777777777777778,
              "#fb9f3a"
             ],
             [
              0.8888888888888888,
              "#fdca26"
             ],
             [
              1,
              "#f0f921"
             ]
            ],
            "type": "histogram2d"
           }
          ],
          "histogram2dcontour": [
           {
            "colorbar": {
             "outlinewidth": 0,
             "ticks": ""
            },
            "colorscale": [
             [
              0,
              "#0d0887"
             ],
             [
              0.1111111111111111,
              "#46039f"
             ],
             [
              0.2222222222222222,
              "#7201a8"
             ],
             [
              0.3333333333333333,
              "#9c179e"
             ],
             [
              0.4444444444444444,
              "#bd3786"
             ],
             [
              0.5555555555555556,
              "#d8576b"
             ],
             [
              0.6666666666666666,
              "#ed7953"
             ],
             [
              0.7777777777777778,
              "#fb9f3a"
             ],
             [
              0.8888888888888888,
              "#fdca26"
             ],
             [
              1,
              "#f0f921"
             ]
            ],
            "type": "histogram2dcontour"
           }
          ],
          "mesh3d": [
           {
            "colorbar": {
             "outlinewidth": 0,
             "ticks": ""
            },
            "type": "mesh3d"
           }
          ],
          "parcoords": [
           {
            "line": {
             "colorbar": {
              "outlinewidth": 0,
              "ticks": ""
             }
            },
            "type": "parcoords"
           }
          ],
          "pie": [
           {
            "automargin": true,
            "type": "pie"
           }
          ],
          "scatter": [
           {
            "fillpattern": {
             "fillmode": "overlay",
             "size": 10,
             "solidity": 0.2
            },
            "type": "scatter"
           }
          ],
          "scatter3d": [
           {
            "line": {
             "colorbar": {
              "outlinewidth": 0,
              "ticks": ""
             }
            },
            "marker": {
             "colorbar": {
              "outlinewidth": 0,
              "ticks": ""
             }
            },
            "type": "scatter3d"
           }
          ],
          "scattercarpet": [
           {
            "marker": {
             "colorbar": {
              "outlinewidth": 0,
              "ticks": ""
             }
            },
            "type": "scattercarpet"
           }
          ],
          "scattergeo": [
           {
            "marker": {
             "colorbar": {
              "outlinewidth": 0,
              "ticks": ""
             }
            },
            "type": "scattergeo"
           }
          ],
          "scattergl": [
           {
            "marker": {
             "colorbar": {
              "outlinewidth": 0,
              "ticks": ""
             }
            },
            "type": "scattergl"
           }
          ],
          "scattermap": [
           {
            "marker": {
             "colorbar": {
              "outlinewidth": 0,
              "ticks": ""
             }
            },
            "type": "scattermap"
           }
          ],
          "scattermapbox": [
           {
            "marker": {
             "colorbar": {
              "outlinewidth": 0,
              "ticks": ""
             }
            },
            "type": "scattermapbox"
           }
          ],
          "scatterpolar": [
           {
            "marker": {
             "colorbar": {
              "outlinewidth": 0,
              "ticks": ""
             }
            },
            "type": "scatterpolar"
           }
          ],
          "scatterpolargl": [
           {
            "marker": {
             "colorbar": {
              "outlinewidth": 0,
              "ticks": ""
             }
            },
            "type": "scatterpolargl"
           }
          ],
          "scatterternary": [
           {
            "marker": {
             "colorbar": {
              "outlinewidth": 0,
              "ticks": ""
             }
            },
            "type": "scatterternary"
           }
          ],
          "surface": [
           {
            "colorbar": {
             "outlinewidth": 0,
             "ticks": ""
            },
            "colorscale": [
             [
              0,
              "#0d0887"
             ],
             [
              0.1111111111111111,
              "#46039f"
             ],
             [
              0.2222222222222222,
              "#7201a8"
             ],
             [
              0.3333333333333333,
              "#9c179e"
             ],
             [
              0.4444444444444444,
              "#bd3786"
             ],
             [
              0.5555555555555556,
              "#d8576b"
             ],
             [
              0.6666666666666666,
              "#ed7953"
             ],
             [
              0.7777777777777778,
              "#fb9f3a"
             ],
             [
              0.8888888888888888,
              "#fdca26"
             ],
             [
              1,
              "#f0f921"
             ]
            ],
            "type": "surface"
           }
          ],
          "table": [
           {
            "cells": {
             "fill": {
              "color": "#EBF0F8"
             },
             "line": {
              "color": "white"
             }
            },
            "header": {
             "fill": {
              "color": "#C8D4E3"
             },
             "line": {
              "color": "white"
             }
            },
            "type": "table"
           }
          ]
         },
         "layout": {
          "annotationdefaults": {
           "arrowcolor": "#2a3f5f",
           "arrowhead": 0,
           "arrowwidth": 1
          },
          "autotypenumbers": "strict",
          "coloraxis": {
           "colorbar": {
            "outlinewidth": 0,
            "ticks": ""
           }
          },
          "colorscale": {
           "diverging": [
            [
             0,
             "#8e0152"
            ],
            [
             0.1,
             "#c51b7d"
            ],
            [
             0.2,
             "#de77ae"
            ],
            [
             0.3,
             "#f1b6da"
            ],
            [
             0.4,
             "#fde0ef"
            ],
            [
             0.5,
             "#f7f7f7"
            ],
            [
             0.6,
             "#e6f5d0"
            ],
            [
             0.7,
             "#b8e186"
            ],
            [
             0.8,
             "#7fbc41"
            ],
            [
             0.9,
             "#4d9221"
            ],
            [
             1,
             "#276419"
            ]
           ],
           "sequential": [
            [
             0,
             "#0d0887"
            ],
            [
             0.1111111111111111,
             "#46039f"
            ],
            [
             0.2222222222222222,
             "#7201a8"
            ],
            [
             0.3333333333333333,
             "#9c179e"
            ],
            [
             0.4444444444444444,
             "#bd3786"
            ],
            [
             0.5555555555555556,
             "#d8576b"
            ],
            [
             0.6666666666666666,
             "#ed7953"
            ],
            [
             0.7777777777777778,
             "#fb9f3a"
            ],
            [
             0.8888888888888888,
             "#fdca26"
            ],
            [
             1,
             "#f0f921"
            ]
           ],
           "sequentialminus": [
            [
             0,
             "#0d0887"
            ],
            [
             0.1111111111111111,
             "#46039f"
            ],
            [
             0.2222222222222222,
             "#7201a8"
            ],
            [
             0.3333333333333333,
             "#9c179e"
            ],
            [
             0.4444444444444444,
             "#bd3786"
            ],
            [
             0.5555555555555556,
             "#d8576b"
            ],
            [
             0.6666666666666666,
             "#ed7953"
            ],
            [
             0.7777777777777778,
             "#fb9f3a"
            ],
            [
             0.8888888888888888,
             "#fdca26"
            ],
            [
             1,
             "#f0f921"
            ]
           ]
          },
          "colorway": [
           "#636efa",
           "#EF553B",
           "#00cc96",
           "#ab63fa",
           "#FFA15A",
           "#19d3f3",
           "#FF6692",
           "#B6E880",
           "#FF97FF",
           "#FECB52"
          ],
          "font": {
           "color": "#2a3f5f"
          },
          "geo": {
           "bgcolor": "white",
           "lakecolor": "white",
           "landcolor": "#E5ECF6",
           "showlakes": true,
           "showland": true,
           "subunitcolor": "white"
          },
          "hoverlabel": {
           "align": "left"
          },
          "hovermode": "closest",
          "mapbox": {
           "style": "light"
          },
          "paper_bgcolor": "white",
          "plot_bgcolor": "#E5ECF6",
          "polar": {
           "angularaxis": {
            "gridcolor": "white",
            "linecolor": "white",
            "ticks": ""
           },
           "bgcolor": "#E5ECF6",
           "radialaxis": {
            "gridcolor": "white",
            "linecolor": "white",
            "ticks": ""
           }
          },
          "scene": {
           "xaxis": {
            "backgroundcolor": "#E5ECF6",
            "gridcolor": "white",
            "gridwidth": 2,
            "linecolor": "white",
            "showbackground": true,
            "ticks": "",
            "zerolinecolor": "white"
           },
           "yaxis": {
            "backgroundcolor": "#E5ECF6",
            "gridcolor": "white",
            "gridwidth": 2,
            "linecolor": "white",
            "showbackground": true,
            "ticks": "",
            "zerolinecolor": "white"
           },
           "zaxis": {
            "backgroundcolor": "#E5ECF6",
            "gridcolor": "white",
            "gridwidth": 2,
            "linecolor": "white",
            "showbackground": true,
            "ticks": "",
            "zerolinecolor": "white"
           }
          },
          "shapedefaults": {
           "line": {
            "color": "#2a3f5f"
           }
          },
          "ternary": {
           "aaxis": {
            "gridcolor": "white",
            "linecolor": "white",
            "ticks": ""
           },
           "baxis": {
            "gridcolor": "white",
            "linecolor": "white",
            "ticks": ""
           },
           "bgcolor": "#E5ECF6",
           "caxis": {
            "gridcolor": "white",
            "linecolor": "white",
            "ticks": ""
           }
          },
          "title": {
           "x": 0.05
          },
          "xaxis": {
           "automargin": true,
           "gridcolor": "white",
           "linecolor": "white",
           "ticks": "",
           "title": {
            "standoff": 15
           },
           "zerolinecolor": "white",
           "zerolinewidth": 2
          },
          "yaxis": {
           "automargin": true,
           "gridcolor": "white",
           "linecolor": "white",
           "ticks": "",
           "title": {
            "standoff": 15
           },
           "zerolinecolor": "white",
           "zerolinewidth": 2
          }
         }
        },
        "title": {
         "text": "Remaining Useful Life by Engine Health State"
        },
        "xaxis": {
         "anchor": "y",
         "domain": [
          0,
          1
         ],
         "title": {
          "text": "Engine Cycle"
         }
        },
        "yaxis": {
         "anchor": "x",
         "domain": [
          0,
          1
         ],
         "title": {
          "text": "Remaining Useful Life"
         }
        }
       }
      }
     },
     "metadata": {},
     "output_type": "display_data"
    },
    {
     "data": {
      "application/vnd.plotly.v1+json": {
       "config": {
        "plotlyServerURL": "https://plot.ly"
       },
       "data": [
        {
         "marker": {
          "color": "green"
         },
         "mode": "markers",
         "name": "Healthy",
         "showlegend": true,
         "type": "scatter",
         "x": {
          "bdata": "j8L1KFzBmECPwvUoXBOZQK5H4XoUpJhApHA9Cte6mEBI4XoUrtqYQNejcD0KEJlA16NwPQqSmECF61G4HjGZQFyPwvUo0phA9ihcj8I1mUBSuB6F6/mYQDMzMzMzuJhAMzMzMzPHmEC4HoXrUReZQHsUrkfhPZlAKVyPwvU0mUDsUbgehSOZQI/C9ShcnZhAZmZmZmbomEBmZmZmZiuZQGZmZmZm4phAFK5H4XrYmECPwvUoXPCYQD0K16NwFplAFK5H4XrKmECuR+F6FOqYQB+F61G4iZhAmpmZmZnpmEB7FK5H4Y+YQHE9Ctej+phAPQrXo3DumEBI4XoUrsyYQEjhehSuq5hAzczMzMwNmUAzMzMzM/WYQK5H4XoUuphA4XoUrke8mED2KFyPwiiZQD0K16NwMZlAexSuR+HkmECuR+F6FM2YQI/C9ShctphAXI/C9SgImUBcj8L1KAWZQKRwPQrXvJhA16NwPQoBmUAAAAAAACiZQFK4HoXrKZlAj8L1KFyWmEDhehSuR+GYQHsUrkfh15hAXI/C9SjbmEDXo3A9CsaYQLgehetRrZhArkfhehTEmEBmZmZmZrOYQHE9CtejHZlASOF6FK7KmEA9CtejcKOYQEjhehSuD5lAuB6F61GymEAAAAAAANeYQArXo3A9mphA9ihcj8KXmECamZmZmQ2ZQBSuR+F6IJlAFK5H4XoqmUCkcD0K1zeZQK5H4XoUyJhACtejcD2JmEApXI/C9SeZQK5H4XoUoZhAFK5H4XqbmECPwvUoXCeZQFK4HoXr8phAj8L1KFz+mEAK16NwPTiZQIXrUbgeEZlAMzMzMzP9mECF61G4HtuYQMP1KFyPEZlAH4XrUbismEBSuB6F6ySZQDMzMzMzu5hASOF6FK62mEBxPQrXo32YQClcj8L1z5hAcT0K16MxmUBxPQrXo7uYQPYoXI/CsJhAj8L1KFy1mEDNzMzMzEKZQJqZmZmZ5JhAzczMzMzrmEAfhetRuKyYQFK4HoXr1phAmpmZmZnzmEAfhetRuKeYQFyPwvUoFplApHA9Ctf5mEA9CtejcAqZQLgehetRKZlAMzMzMzOTmEAzMzMzM6+YQArXo3A99phAexSuR+GlmECF61G4HhSZQGZmZmZm5JhAcT0K16MimUBcj8L1KEOZQFyPwvUohJhAmpmZmZkZmUC4HoXrUYqYQHsUrkfhxphA7FG4HoXZmED2KFyPwgCZQI/C9ShctZhAXI/C9ShLmUBmZmZmZg2ZQI/C9ShcqphArkfhehQcmUAAAAAAAIaYQMP1KFyPJ5lAPQrXo3CQmEDsUbgehUKZQHE9CtejnJhArkfhehTFmED2KFyPwoqYQOxRuB6F6phAexSuR+G/mEBxPQrXo/yYQOF6FK5HFplAFK5H4XoAmUBxPQrXo9KYQIXrUbgeGZlASOF6FK7+mECPwvUoXISYQA==",
          "dtype": "f8"
         },
         "xaxis": "x",
         "y": {
          "bdata": "zQBpAcwACAFoAcsABwFnAcoABgFmAckABQFlAcgABAFkAccAAwFjAcYAAgFiAcUAAQFhAcQAAAFgAcMA/wBfAcIA/gBeAcEA/QBdAcAA/ABcAb8A+wBbAb4A+gBaAb0A+QBZAfgAWAG7APcAVwG6AFYB9QBVAbgAVAG3APMAUwG2APIAUgG1APEAtADwAFABswDvAE8BsgDuAE4BsQDtAE0BsADsAEwBrwDrAEsBrgDqAK0A6QBJAawASAGrAOcARwGqAOYARgGpAOUARQGoAOQARAGnAOMAQwGmAOIAQgGlAOEAQQHgAEAB3wA/AaIA3gA+AaEA3QA9AaAA3AA8AZ8A2wCeANoAnQDZADkB2AA4AQ==",
          "dtype": "i2"
         },
         "yaxis": "y"
        },
        {
         "marker": {
          "color": "orange"
         },
         "mode": "markers",
         "name": "Degrading",
         "showlegend": true,
         "type": "scatter",
         "x": {
          "bdata": "4XoUrkfLmEAK16NwPX2YQAAAAAAAxJhAzczMzMwLmUA9CtejcLmYQB+F61G4EplAFK5H4Xr9mECPwvUoXPaYQAAAAAAAL5lA9ihcj8IImUDD9ShcjwuZQM3MzMzMZJlAexSuR+FqmUA=",
          "dtype": "f8"
         },
         "xaxis": "x",
         "y": {
          "bdata": "CQG8APYAuQD0AFEBSgHoAKQAowA7AToBnAA=",
          "dtype": "i2"
         },
         "yaxis": "y"
        },
        {
         "marker": {
          "color": "red"
         },
         "mode": "markers",
         "name": "Critical",
         "showlegend": true,
         "type": "scatter",
         "x": [],
         "xaxis": "x",
         "y": [],
         "yaxis": "y"
        },
        {
         "marker": {
          "color": "green"
         },
         "mode": "markers",
         "name": "Healthy",
         "showlegend": false,
         "type": "scatter",
         "x": {
          "bdata": "j8L1KFyvR0CamZmZmflHQKRwPQrX40dAw/UoXI9iR0CkcD0K12NHQGZmZmZmxkdApHA9CtfjR0DXo3A9CpdHQHE9CtejsEdA9ihcj8LVR0BxPQrXo/BHQHsUrkfhukdAZmZmZmYmSEAUrkfhepRHQKRwPQrXQ0hA16NwPQoXSEBcj8L1KBxIQHsUrkfhOkdASOF6FK4nSECamZmZmZlHQLgehetRWEdA9ihcj8J1R0BI4XoUrgdIQNejcD0K90dA9ihcj8JVR0AUrkfhejRIQArXo3A9ykdAj8L1KFzvR0BxPQrXo7BHQM3MzMzMzEdAcT0K16PQR0BSuB6F65FHQFK4HoXr0UdAH4XrUbjeR0CkcD0K18NHQFyPwvUoPEhAZmZmZmaGR0AK16NwPUpIQNejcD0Kl0dArkfhehQuSECamZmZmZlHQFK4HoXrkUdAFK5H4XrUR0AAAAAAAIBHQKRwPQrXo0dAw/UoXI9CSEC4HoXrUdhHQOF6FK5HIUhAZmZmZmZGR0CF61G4HsVHQK5H4XoUzkdAZmZmZmZGSECF61G4HgVIQEjhehSuZ0dArkfhehTuR0AfhetRuJ5HQM3MzMzMrEdApHA9CtcDSEC4HoXrUfhHQB+F61G4vkdApHA9CtfjR0DhehSuRwFIQB+F61G43kdAuB6F61GYR0DhehSuRyFIQKRwPQrXo0dAcT0K16PwR0CF61G4HuVHQK5H4XoUDkhA16NwPQqXR0D2KFyPwpVHQGZmZmZm5kdAKVyPwvXoR0CPwvUoXC9IQClcj8L16EdAw/UoXI/CR0AfhetRuB5IQOxRuB6Fq0dA16NwPQrXR0AK16NwPSpHQDMzMzMzM0hA9ihcj8K1R0ApXI/C9YhHQJqZmZmZGUhAj8L1KFzvR0BI4XoUrgdIQHsUrkfhukdAZmZmZmZmR0CF61G4HkVIQMP1KFyPQkhACtejcD1KR0AUrkfhepRHQKRwPQrX40dASOF6FK6nR0AK16NwPapHQLgehetROEhApHA9CtdDSEBcj8L1KFxHQHsUrkfhWkhAUrgeheuRR0AK16NwPapHQArXo3A96kdAw/UoXI8CSEBcj8L1KLxHQB+F61G4fkdAuB6F61F4R0BI4XoUrgdIQAAAAAAAwEdAPQrXo3CdR0ApXI/C9YhHQLgehetR2EdAw/UoXI/CR0DsUbgehWtHQFyPwvUoPEdAH4XrUbjeR0CF61G4HgVIQM3MzMzMbEdArkfhehTOR0BmZmZmZoZHQHE9CtejMEhA4XoUrkfhR0CamZmZmblHQJqZmZmZGUhAcT0K16MwSEBSuB6F65FHQM3MzMzMLEhAj8L1KFyPR0ApXI/C9ehHQK5H4XoUzkdArkfhehTOR0AUrkfherRHQOxRuB6FK0hAFK5H4Xo0SEC4HoXrUbhHQK5H4XoUTkdAmpmZmZnZR0BxPQrXoxBIQA==",
          "dtype": "f8"
         },
         "xaxis": "x2",
         "y": {
          "bdata": "zQBpAcwACAFoAcsABwFnAcoABgFmAckABQFlAcgABAFkAccAAwFjAcYAAgFiAcUAAQFhAcQAAAFgAcMA/wBfAcIA/gBeAcEA/QBdAcAA/ABcAb8A+wBbAb4A+gBaAb0A+QBZAfgAWAG7APcAVwG6AFYB9QBVAbgAVAG3APMAUwG2APIAUgG1APEAtADwAFABswDvAE8BsgDuAE4BsQDtAE0BsADsAEwBrwDrAEsBrgDqAK0A6QBJAawASAGrAOcARwGqAOYARgGpAOUARQGoAOQARAGnAOMAQwGmAOIAQgGlAOEAQQHgAEAB3wA/AaIA3gA+AaEA3QA9AaAA3AA8AZ8A2wCeANoAnQDZADkB2AA4AQ==",
          "dtype": "i2"
         },
         "yaxis": "y2"
        },
        {
         "marker": {
          "color": "orange"
         },
         "mode": "markers",
         "name": "Degrading",
         "showlegend": false,
         "type": "scatter",
         "x": {
          "bdata": "j8L1KFwPSEA9CtejcJ1IQK5H4XoUTkhAhetRuB4FSEDXo3A9CldIQHsUrkfhekdAcT0K16PwR0AUrkfhevRHQHE9CtejkEdAw/UoXI+CSEAAAAAAAOBHQFK4HoXr0UdAH4XrUbj+R0A=",
          "dtype": "f8"
         },
         "xaxis": "x2",
         "y": {
          "bdata": "CQG8APYAuQD0AFEBSgHoAKQAowA7AToBnAA=",
          "dtype": "i2"
         },
         "yaxis": "y2"
        },
        {
         "marker": {
          "color": "red"
         },
         "mode": "markers",
         "name": "Critical",
         "showlegend": false,
         "type": "scatter",
         "x": [],
         "xaxis": "x2",
         "y": [],
         "yaxis": "y2"
        }
       ],
       "layout": {
        "annotations": [
         {
          "font": {
           "size": 16
          },
          "showarrow": false,
          "text": "RUL vs Temperature T30",
          "x": 0.225,
          "xanchor": "center",
          "xref": "paper",
          "y": 1,
          "yanchor": "bottom",
          "yref": "paper"
         },
         {
          "font": {
           "size": 16
          },
          "showarrow": false,
          "text": "RUL vs Bypass Ratio",
          "x": 0.775,
          "xanchor": "center",
          "xref": "paper",
          "y": 1,
          "yanchor": "bottom",
          "yref": "paper"
         }
        ],
        "height": 400,
        "template": {
         "data": {
          "bar": [
           {
            "error_x": {
             "color": "#2a3f5f"
            },
            "error_y": {
             "color": "#2a3f5f"
            },
            "marker": {
             "line": {
              "color": "#E5ECF6",
              "width": 0.5
             },
             "pattern": {
              "fillmode": "overlay",
              "size": 10,
              "solidity": 0.2
             }
            },
            "type": "bar"
           }
          ],
          "barpolar": [
           {
            "marker": {
             "line": {
              "color": "#E5ECF6",
              "width": 0.5
             },
             "pattern": {
              "fillmode": "overlay",
              "size": 10,
              "solidity": 0.2
             }
            },
            "type": "barpolar"
           }
          ],
          "carpet": [
           {
            "aaxis": {
             "endlinecolor": "#2a3f5f",
             "gridcolor": "white",
             "linecolor": "white",
             "minorgridcolor": "white",
             "startlinecolor": "#2a3f5f"
            },
            "baxis": {
             "endlinecolor": "#2a3f5f",
             "gridcolor": "white",
             "linecolor": "white",
             "minorgridcolor": "white",
             "startlinecolor": "#2a3f5f"
            },
            "type": "carpet"
           }
          ],
          "choropleth": [
           {
            "colorbar": {
             "outlinewidth": 0,
             "ticks": ""
            },
            "type": "choropleth"
           }
          ],
          "contour": [
           {
            "colorbar": {
             "outlinewidth": 0,
             "ticks": ""
            },
            "colorscale": [
             [
              0,
              "#0d0887"
             ],
             [
              0.1111111111111111,
              "#46039f"
             ],
             [
              0.2222222222222222,
              "#7201a8"
             ],
             [
              0.3333333333333333,
              "#9c179e"
             ],
             [
              0.4444444444444444,
              "#bd3786"
             ],
             [
              0.5555555555555556,
              "#d8576b"
             ],
             [
              0.6666666666666666,
              "#ed7953"
             ],
             [
              0.7777777777777778,
              "#fb9f3a"
             ],
             [
              0.8888888888888888,
              "#fdca26"
             ],
             [
              1,
              "#f0f921"
             ]
            ],
            "type": "contour"
           }
          ],
          "contourcarpet": [
           {
            "colorbar": {
             "outlinewidth": 0,
             "ticks": ""
            },
            "type": "contourcarpet"
           }
          ],
          "heatmap": [
           {
            "colorbar": {
             "outlinewidth": 0,
             "ticks": ""
            },
            "colorscale": [
             [
              0,
              "#0d0887"
             ],
             [
              0.1111111111111111,
              "#46039f"
             ],
             [
              0.2222222222222222,
              "#7201a8"
             ],
             [
              0.3333333333333333,
              "#9c179e"
             ],
             [
              0.4444444444444444,
              "#bd3786"
             ],
             [
              0.5555555555555556,
              "#d8576b"
             ],
             [
              0.6666666666666666,
              "#ed7953"
             ],
             [
              0.7777777777777778,
              "#fb9f3a"
             ],
             [
              0.8888888888888888,
              "#fdca26"
             ],
             [
              1,
              "#f0f921"
             ]
            ],
            "type": "heatmap"
           }
          ],
          "histogram": [
           {
            "marker": {
             "pattern": {
              "fillmode": "overlay",
              "size": 10,
              "solidity": 0.2
             }
            },
            "type": "histogram"
           }
          ],
          "histogram2d": [
           {
            "colorbar": {
             "outlinewidth": 0,
             "ticks": ""
            },
            "colorscale": [
             [
              0,
              "#0d0887"
             ],
             [
              0.1111111111111111,
              "#46039f"
             ],
             [
              0.2222222222222222,
              "#7201a8"
             ],
             [
              0.3333333333333333,
              "#9c179e"
             ],
             [
              0.4444444444444444,
              "#bd3786"
             ],
             [
              0.5555555555555556,
              "#d8576b"
             ],
             [
              0.6666666666666666,
              "#ed7953"
             ],
             [
              0.7777777777777778,
              "#fb9f3a"
             ],
             [
              0.8888888888888888,
              "#fdca26"
             ],
             [
              1,
              "#f0f921"
             ]
            ],
            "type": "histogram2d"
           }
          ],
          "histogram2dcontour": [
           {
            "colorbar": {
             "outlinewidth": 0,
             "ticks": ""
            },
            "colorscale": [
             [
              0,
              "#0d0887"
             ],
             [
              0.1111111111111111,
              "#46039f"
             ],
             [
              0.2222222222222222,
              "#7201a8"
             ],
             [
              0.3333333333333333,
              "#9c179e"
             ],
             [
              0.4444444444444444,
              "#bd3786"
             ],
             [
              0.5555555555555556,
              "#d8576b"
             ],
             [
              0.6666666666666666,
              "#ed7953"
             ],
             [
              0.7777777777777778,
              "#fb9f3a"
             ],
             [
              0.8888888888888888,
              "#fdca26"
             ],
             [
              1,
              "#f0f921"
             ]
            ],
            "type": "histogram2dcontour"
           }
          ],
          "mesh3d": [
           {
            "colorbar": {
             "outlinewidth": 0,
             "ticks": ""
            },
            "type": "mesh3d"
           }
          ],
          "parcoords": [
           {
            "line": {
             "colorbar": {
              "outlinewidth": 0,
              "ticks": ""
             }
            },
            "type": "parcoords"
           }
          ],
          "pie": [
           {
            "automargin": true,
            "type": "pie"
           }
          ],
          "scatter": [
           {
            "fillpattern": {
             "fillmode": "overlay",
             "size": 10,
             "solidity": 0.2
            },
            "type": "scatter"
           }
          ],
          "scatter3d": [
           {
            "line": {
             "colorbar": {
              "outlinewidth": 0,
              "ticks": ""
             }
            },
            "marker": {
             "colorbar": {
              "outlinewidth": 0,
              "ticks": ""
             }
            },
            "type": "scatter3d"
           }
          ],
          "scattercarpet": [
           {
            "marker": {
             "colorbar": {
              "outlinewidth": 0,
              "ticks": ""
             }
            },
            "type": "scattercarpet"
           }
          ],
          "scattergeo": [
           {
            "marker": {
             "colorbar": {
              "outlinewidth": 0,
              "ticks": ""
             }
            },
            "type": "scattergeo"
           }
          ],
          "scattergl": [
           {
            "marker": {
             "colorbar": {
              "outlinewidth": 0,
              "ticks": ""
             }
            },
            "type": "scattergl"
           }
          ],
          "scattermap": [
           {
            "marker": {
             "colorbar": {
              "outlinewidth": 0,
              "ticks": ""
             }
            },
            "type": "scattermap"
           }
          ],
          "scattermapbox": [
           {
            "marker": {
             "colorbar": {
              "outlinewidth": 0,
              "ticks": ""
             }
            },
            "type": "scattermapbox"
           }
          ],
          "scatterpolar": [
           {
            "marker": {
             "colorbar": {
              "outlinewidth": 0,
              "ticks": ""
             }
            },
            "type": "scatterpolar"
           }
          ],
          "scatterpolargl": [
           {
            "marker": {
             "colorbar": {
              "outlinewidth": 0,
              "ticks": ""
             }
            },
            "type": "scatterpolargl"
           }
          ],
          "scatterternary": [
           {
            "marker": {
             "colorbar": {
              "outlinewidth": 0,
              "ticks": ""
             }
            },
            "type": "scatterternary"
           }
          ],
          "surface": [
           {
            "colorbar": {
             "outlinewidth": 0,
             "ticks": ""
            },
            "colorscale": [
             [
              0,
              "#0d0887"
             ],
             [
              0.1111111111111111,
              "#46039f"
             ],
             [
              0.2222222222222222,
              "#7201a8"
             ],
             [
              0.3333333333333333,
              "#9c179e"
             ],
             [
              0.4444444444444444,
              "#bd3786"
             ],
             [
              0.5555555555555556,
              "#d8576b"
             ],
             [
              0.6666666666666666,
              "#ed7953"
             ],
             [
              0.7777777777777778,
              "#fb9f3a"
             ],
             [
              0.8888888888888888,
              "#fdca26"
             ],
             [
              1,
              "#f0f921"
             ]
            ],
            "type": "surface"
           }
          ],
          "table": [
           {
            "cells": {
             "fill": {
              "color": "#EBF0F8"
             },
             "line": {
              "color": "white"
             }
            },
            "header": {
             "fill": {
              "color": "#C8D4E3"
             },
             "line": {
              "color": "white"
             }
            },
            "type": "table"
           }
          ]
         },
         "layout": {
          "annotationdefaults": {
           "arrowcolor": "#2a3f5f",
           "arrowhead": 0,
           "arrowwidth": 1
          },
          "autotypenumbers": "strict",
          "coloraxis": {
           "colorbar": {
            "outlinewidth": 0,
            "ticks": ""
           }
          },
          "colorscale": {
           "diverging": [
            [
             0,
             "#8e0152"
            ],
            [
             0.1,
             "#c51b7d"
            ],
            [
             0.2,
             "#de77ae"
            ],
            [
             0.3,
             "#f1b6da"
            ],
            [
             0.4,
             "#fde0ef"
            ],
            [
             0.5,
             "#f7f7f7"
            ],
            [
             0.6,
             "#e6f5d0"
            ],
            [
             0.7,
             "#b8e186"
            ],
            [
             0.8,
             "#7fbc41"
            ],
            [
             0.9,
             "#4d9221"
            ],
            [
             1,
             "#276419"
            ]
           ],
           "sequential": [
            [
             0,
             "#0d0887"
            ],
            [
             0.1111111111111111,
             "#46039f"
            ],
            [
             0.2222222222222222,
             "#7201a8"
            ],
            [
             0.3333333333333333,
             "#9c179e"
            ],
            [
             0.4444444444444444,
             "#bd3786"
            ],
            [
             0.5555555555555556,
             "#d8576b"
            ],
            [
             0.6666666666666666,
             "#ed7953"
            ],
            [
             0.7777777777777778,
             "#fb9f3a"
            ],
            [
             0.8888888888888888,
             "#fdca26"
            ],
            [
             1,
             "#f0f921"
            ]
           ],
           "sequentialminus": [
            [
             0,
             "#0d0887"
            ],
            [
             0.1111111111111111,
             "#46039f"
            ],
            [
             0.2222222222222222,
             "#7201a8"
            ],
            [
             0.3333333333333333,
             "#9c179e"
            ],
            [
             0.4444444444444444,
             "#bd3786"
            ],
            [
             0.5555555555555556,
             "#d8576b"
            ],
            [
             0.6666666666666666,
             "#ed7953"
            ],
            [
             0.7777777777777778,
             "#fb9f3a"
            ],
            [
             0.8888888888888888,
             "#fdca26"
            ],
            [
             1,
             "#f0f921"
            ]
           ]
          },
          "colorway": [
           "#636efa",
           "#EF553B",
           "#00cc96",
           "#ab63fa",
           "#FFA15A",
           "#19d3f3",
           "#FF6692",
           "#B6E880",
           "#FF97FF",
           "#FECB52"
          ],
          "font": {
           "color": "#2a3f5f"
          },
          "geo": {
           "bgcolor": "white",
           "lakecolor": "white",
           "landcolor": "#E5ECF6",
           "showlakes": true,
           "showland": true,
           "subunitcolor": "white"
          },
          "hoverlabel": {
           "align": "left"
          },
          "hovermode": "closest",
          "mapbox": {
           "style": "light"
          },
          "paper_bgcolor": "white",
          "plot_bgcolor": "#E5ECF6",
          "polar": {
           "angularaxis": {
            "gridcolor": "white",
            "linecolor": "white",
            "ticks": ""
           },
           "bgcolor": "#E5ECF6",
           "radialaxis": {
            "gridcolor": "white",
            "linecolor": "white",
            "ticks": ""
           }
          },
          "scene": {
           "xaxis": {
            "backgroundcolor": "#E5ECF6",
            "gridcolor": "white",
            "gridwidth": 2,
            "linecolor": "white",
            "showbackground": true,
            "ticks": "",
            "zerolinecolor": "white"
           },
           "yaxis": {
            "backgroundcolor": "#E5ECF6",
            "gridcolor": "white",
            "gridwidth": 2,
            "linecolor": "white",
            "showbackground": true,
            "ticks": "",
            "zerolinecolor": "white"
           },
           "zaxis": {
            "backgroundcolor": "#E5ECF6",
            "gridcolor": "white",
            "gridwidth": 2,
            "linecolor": "white",
            "showbackground": true,
            "ticks": "",
            "zerolinecolor": "white"
           }
          },
          "shapedefaults": {
           "line": {
            "color": "#2a3f5f"
           }
          },
          "ternary": {
           "aaxis": {
            "gridcolor": "white",
            "linecolor": "white",
            "ticks": ""
           },
           "baxis": {
            "gridcolor": "white",
            "linecolor": "white",
            "ticks": ""
           },
           "bgcolor": "#E5ECF6",
           "caxis": {
            "gridcolor": "white",
            "linecolor": "white",
            "ticks": ""
           }
          },
          "title": {
           "x": 0.05
          },
          "xaxis": {
           "automargin": true,
           "gridcolor": "white",
           "linecolor": "white",
           "ticks": "",
           "title": {
            "standoff": 15
           },
           "zerolinecolor": "white",
           "zerolinewidth": 2
          },
          "yaxis": {
           "automargin": true,
           "gridcolor": "white",
           "linecolor": "white",
           "ticks": "",
           "title": {
            "standoff": 15
           },
           "zerolinecolor": "white",
           "zerolinewidth": 2
          }
         }
        },
        "title": {
         "text": "Sensor Values vs Remaining Useful Life"
        },
        "xaxis": {
         "anchor": "y",
         "domain": [
          0,
          0.45
         ]
        },
        "xaxis2": {
         "anchor": "y2",
         "domain": [
          0.55,
          1
         ]
        },
        "yaxis": {
         "anchor": "x",
         "domain": [
          0,
          1
         ]
        },
        "yaxis2": {
         "anchor": "x2",
         "domain": [
          0,
          1
         ]
        }
       }
      }
     },
     "metadata": {},
     "output_type": "display_data"
    },
    {
     "name": "stdout",
     "output_type": "stream",
     "text": [
      "📈 RUL Analysis Summary:\n"
     ]
    },
    {
     "data": {
      "text/html": [
       "<div>\n",
       "<style scoped>\n",
       "    .dataframe tbody tr th:only-of-type {\n",
       "        vertical-align: middle;\n",
       "    }\n",
       "\n",
       "    .dataframe tbody tr th {\n",
       "        vertical-align: top;\n",
       "    }\n",
       "\n",
       "    .dataframe thead th {\n",
       "        text-align: right;\n",
       "    }\n",
       "</style>\n",
       "<table border=\"1\" class=\"dataframe\">\n",
       "  <thead>\n",
       "    <tr style=\"text-align: right;\">\n",
       "      <th></th>\n",
       "      <th>mean</th>\n",
       "      <th>min</th>\n",
       "      <th>max</th>\n",
       "    </tr>\n",
       "    <tr>\n",
       "      <th>health_state</th>\n",
       "      <th></th>\n",
       "      <th></th>\n",
       "      <th></th>\n",
       "    </tr>\n",
       "  </thead>\n",
       "  <tbody>\n",
       "    <tr>\n",
       "      <th>degrading</th>\n",
       "      <td>241.0</td>\n",
       "      <td>156</td>\n",
       "      <td>337</td>\n",
       "    </tr>\n",
       "    <tr>\n",
       "      <th>healthy</th>\n",
       "      <td>254.0</td>\n",
       "      <td>157</td>\n",
       "      <td>361</td>\n",
       "    </tr>\n",
       "  </tbody>\n",
       "</table>\n",
       "</div>"
      ],
      "text/plain": [
       "               mean  min  max\n",
       "health_state                 \n",
       "degrading     241.0  156  337\n",
       "healthy       254.0  157  361"
      ]
     },
     "metadata": {},
     "output_type": "display_data"
    },
    {
     "name": "stdout",
     "output_type": "stream",
     "text": [
      "\n",
      "🎯 RUL Insights:\n",
      "• Clear correlation between sensor values and remaining useful life\n",
      "• Temperature increases correspond to lower RUL\n",
      "• Bypass ratio shows strong relationship with engine degradation\n",
      "• RUL prediction models can leverage these sensor patterns\n"
     ]
    }
   ],
   "source": [
    "# Analyze RUL patterns\n",
    "fig = px.line(df, x='cycle', y='remaining_useful_life', \n",
    "              color='health_state',\n",
    "              title='Remaining Useful Life by Engine Health State',\n",
    "              color_discrete_map=colors)\n",
    "fig.update_layout(xaxis_title='Engine Cycle', yaxis_title='Remaining Useful Life')\n",
    "fig.show()\n",
    "\n",
    "# RUL vs Key Sensor Relationships\n",
    "fig2 = make_subplots(\n",
    "    rows=1, cols=2,\n",
    "    subplot_titles=['RUL vs Temperature T30', 'RUL vs Bypass Ratio']\n",
    ")\n",
    "\n",
    "# Temperature vs RUL\n",
    "for health_state in ['healthy', 'degrading', 'critical']:\n",
    "    data = df[df['health_state'] == health_state]\n",
    "    fig2.add_trace(\n",
    "        go.Scatter(\n",
    "            x=data['sensor_3'], y=data['remaining_useful_life'],\n",
    "            mode='markers',\n",
    "            name=f'{health_state.capitalize()}',\n",
    "            marker=dict(color=colors[health_state]),\n",
    "            showlegend=True\n",
    "        ),\n",
    "        row=1, col=1\n",
    "    )\n",
    "\n",
    "# Bypass Ratio vs RUL\n",
    "for health_state in ['healthy', 'degrading', 'critical']:\n",
    "    data = df[df['health_state'] == health_state]\n",
    "    fig2.add_trace(\n",
    "        go.Scatter(\n",
    "            x=data['sensor_11'], y=data['remaining_useful_life'],\n",
    "            mode='markers',\n",
    "            name=f'{health_state.capitalize()}',\n",
    "            marker=dict(color=colors[health_state]),\n",
    "            showlegend=False\n",
    "        ),\n",
    "        row=1, col=2\n",
    "    )\n",
    "\n",
    "fig2.update_layout(title=\"Sensor Values vs Remaining Useful Life\", height=400)\n",
    "fig2.show()\n",
    "\n",
    "print(\"📈 RUL Analysis Summary:\")\n",
    "rul_stats = df.groupby('health_state')['remaining_useful_life'].agg(['mean', 'min', 'max']).round(0)\n",
    "display(rul_stats)\n",
    "\n",
    "print(\"\\n🎯 RUL Insights:\")\n",
    "print(\"• Clear correlation between sensor values and remaining useful life\")\n",
    "print(\"• Temperature increases correspond to lower RUL\")\n",
    "print(\"• Bypass ratio shows strong relationship with engine degradation\")\n",
    "print(\"• RUL prediction models can leverage these sensor patterns\")"
   ]
  },
  {
   "cell_type": "markdown",
   "id": "e56b6ca5",
   "metadata": {},
   "source": [
    "## 9. Next Steps and Recommendations\n",
    "\n",
    "Based on this data exploration, here are the recommended next steps:\n",
    "\n",
    "### 🚀 **Immediate Actions**\n",
    "1. **Set up real-time streaming** with Kafka to capture live sensor data\n",
    "2. **Create monitoring dashboard** with key sensor trends and alerts\n",
    "3. **Implement threshold-based alerting** for critical sensors\n",
    "\n",
    "### 🤖 **Machine Learning Development**\n",
    "1. **RUL Prediction Model**: Use temperature and bypass ratio as key features\n",
    "2. **Anomaly Detection**: Implement multivariate analysis for early warning\n",
    "3. **Health Classification**: Build models to automatically classify engine health states\n",
    "\n",
    "### 📊 **Analytics Enhancement**\n",
    "1. **Pattern Recognition**: Identify failure mode signatures\n",
    "2. **Predictive Maintenance**: Optimize maintenance scheduling\n",
    "3. **Fleet Analysis**: Compare engines and identify risk patterns\n",
    "\n",
    "### 🏗️ **Infrastructure**\n",
    "1. **Database Optimization**: Implement time-series optimizations\n",
    "2. **API Development**: Create endpoints for external system integration\n",
    "3. **Scaling**: Prepare for high-throughput production scenarios"
   ]
  },
  {
   "cell_type": "markdown",
   "id": "fcbc41a7",
   "metadata": {},
   "source": [
    "## 10. Save Analysis Results"
   ]
  },
  {
   "cell_type": "code",
   "execution_count": 10,
   "id": "21fe2984",
   "metadata": {},
   "outputs": [
    {
     "name": "stdout",
     "output_type": "stream",
     "text": [
      "💾 Analysis results saved to:\n",
      "  • ../data/analysis/simulated_engine_data.csv\n",
      "  • ../data/analysis/sensor_configuration.csv\n",
      "  • ../data/analysis/health_state_statistics.csv\n",
      "\n",
      "✅ Data exploration completed successfully!\n",
      "🚀 Ready to proceed with real-time streaming and dashboard development.\n"
     ]
    }
   ],
   "source": [
    "# Save the simulated data for future analysis\n",
    "output_dir = '../data/analysis'\n",
    "os.makedirs(output_dir, exist_ok=True)\n",
    "\n",
    "# Save datasets\n",
    "df.to_csv(f'{output_dir}/simulated_engine_data.csv', index=False)\n",
    "sensor_df.to_csv(f'{output_dir}/sensor_configuration.csv', index=False)\n",
    "health_stats.to_csv(f'{output_dir}/health_state_statistics.csv')\n",
    "\n",
    "print(\"💾 Analysis results saved to:\")\n",
    "print(f\"  • {output_dir}/simulated_engine_data.csv\")\n",
    "print(f\"  • {output_dir}/sensor_configuration.csv\")\n",
    "print(f\"  • {output_dir}/health_state_statistics.csv\")\n",
    "\n",
    "print(\"\\n✅ Data exploration completed successfully!\")\n",
    "print(\"🚀 Ready to proceed with real-time streaming and dashboard development.\")"
   ]
  }
 ],
 "metadata": {
  "kernelspec": {
   "display_name": "venv",
   "language": "python",
   "name": "python3"
  },
  "language_info": {
   "codemirror_mode": {
    "name": "ipython",
    "version": 3
   },
   "file_extension": ".py",
   "mimetype": "text/x-python",
   "name": "python",
   "nbconvert_exporter": "python",
   "pygments_lexer": "ipython3",
   "version": "3.13.7"
  }
 },
 "nbformat": 4,
 "nbformat_minor": 5
}
